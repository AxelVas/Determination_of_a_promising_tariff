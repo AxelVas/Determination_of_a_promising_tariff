{
  "nbformat": 4,
  "nbformat_minor": 0,
  "metadata": {
    "kernelspec": {
      "display_name": "Python 3",
      "language": "python",
      "name": "python3"
    },
    "language_info": {
      "codemirror_mode": {
        "name": "ipython",
        "version": 3
      },
      "file_extension": ".py",
      "mimetype": "text/x-python",
      "name": "python",
      "nbconvert_exporter": "python",
      "pygments_lexer": "ipython3",
      "version": "3.8.5"
    },
    "colab": {
      "name": "Определение перспективного тарифа для телеком компании.ipynb",
      "provenance": [],
      "collapsed_sections": []
    }
  },
  "cells": [
    {
      "cell_type": "markdown",
      "metadata": {
        "id": "2w3te--cAZyZ"
      },
      "source": [
        "# Определение перспективного тарифа для телеком компании\n",
        "____"
      ]
    },
    {
      "cell_type": "markdown",
      "metadata": {
        "id": "3DHVCH-KAZyf"
      },
      "source": [
        "## Описание проекта.\n",
        "##### Клиентам предлагают два тарифных плана: «Смарт» и «Ультра». Чтобы скорректировать рекламный бюджет, коммерческий департамент хочет понять, какой тариф приносит больше денег.\n",
        "##### В данном проекте мы сделаем предварительный анализ тарифов на небольшой выборке клиентов. В нашем распоряжении данные 500 пользователей «Мегалайна»: кто они, откуда, каким тарифом пользуются, сколько звонков и сообщений каждый отправил за 2018 год. Проведём анализ поведения клиентов и сделаем вывод — какой тариф лучше.\n",
        "_____ \n",
        "<a id='start'></a>"
      ]
    },
    {
      "cell_type": "markdown",
      "metadata": {
        "id": "0aaeeKy0AZyg"
      },
      "source": [
        "## Содержание\n",
        "\n",
        "### Глава 1. Изучим общую информацию и откроем файл с данными \n",
        "   * <a href='#step_1.1'>Добавим описание тарифов, с которыми будем работать.</a>\n",
        "   * <a href='#step_1.2'>Загружаем библиотеки и данные </a>\n",
        "   * <a href='#step_1.3'>Ознакомление с данными </a>\n",
        "       * <a href='#step_1.4'>Звонки</a>\n",
        "       * <a href='#step_1.5'>Интернет</a>\n",
        "       * <a href='#step_1.6'>Сообщения</a>\n",
        "       * <a href='#step_1.7'>Тарифы</a>\n",
        "       * <a href='#step_1.8'>Клиенты</a>\n",
        "   * <a href='#step_1.end'>Вывод</a>\n",
        "\n",
        "### Глава 2. Подготовливаем данные\n",
        "   * <a href='#step_2.1'>Приведём данные к нужным типам</a>\n",
        "   * <a href='#step_2.2'>Найдём и исправим ошибки в данных</a><br>\n",
        " Посчитаем для каждого пользователя:\n",
        "       * <a href='#step_2.3'>Количество сделанных звонков и израсходованных минут разговора по месяцам</a>\n",
        "       * <a href='#step_2.4'>Количество отправленных сообщений по месяцам </a>\n",
        "       * <a href='#step_2.5'>Объем израсходованного интернет-трафика по месяцам</a>\n",
        "       * <a href='#step_2.6'>Помесячную выручку с каждого пользователя</a>\n",
        "   * <a href='#step_2.end'>Вывод</a>\n",
        "\n",
        "\n",
        "### Глава 3. Проанализируем данные\n",
        "   * <a href='#step_3.1'>Опишем поведение клиентов оператора, исходя из выборки</a>\n",
        "   * <a href='#step_3.2'>Посчитаем среднее количество, дисперсию и стандартное отклонение</a>\n",
        "       * <a href='#step_3.3'>Начнём подсчёт со среднего количества</a>\n",
        "       * <a href='#step_3.4'>Посчитаем дисперсию</a> \n",
        "       * <a href='#step_3.5'>Стандартное отклонение</a>\n",
        "   * <a href='#step_3.6'>Построим гистограммы и опишем распределения</a>\n",
        "      \n",
        "   * <a href='#step_3.end'>Вывод</a>\n",
        "\n",
        "\n",
        "### Глава 4. Проверим гипотезы:\n",
        "   * <a href='#step_4.1'>Cредняя выручка пользователей тарифов «Ультра» и «Смарт» различается</a>\n",
        "   * <a href='#step_4.2'>Cредняя выручка пользователей из Москвы отличается от выручки пользователей из других регионов</a>\n",
        " \n",
        "   * <a href='#step_4.end'>Вывод</a>\n",
        "\n",
        "\n",
        "### Глава 5. Общий вывод\n",
        "   * <a href='#step_5.end'>Вывод</a>\n",
        "   ____\n",
        "   ___"
      ]
    },
    {
      "cell_type": "markdown",
      "metadata": {
        "id": "Ot5PeoRVAZyh"
      },
      "source": [
        "<a id=\"step_1.1\"></a>\n",
        "### Глава 1. Изучим общую информацию и откроем файл с данными "
      ]
    },
    {
      "cell_type": "markdown",
      "metadata": {
        "id": "Q-LBS4BVAZyh"
      },
      "source": [
        "#### Добавим описание тарифов, с которыми будем работать. <a id='step_1.1'></a>\n",
        "##### Тариф «Смарт»\n",
        "Ежемесячная плата: 550 рублей<br>\n",
        "Включено 500 минут разговора, 50 сообщений и 15 Гб интернет-трафика <br>\n",
        "Стоимость услуг сверх тарифного пакета: <br>\n",
        "минута разговора: 3 рубля<br>\n",
        "сообщение: 3 рубля<br>\n",
        "1 Гб интернет-трафика: 200 рублей\n",
        "##### Тариф «Ультра»\n",
        "Ежемесячная плата: 1950 рублей<br>\n",
        "Включено 3000 минут разговора, 1000 сообщений и 30 Гб интернет-трафика<br>\n",
        "Стоимость услуг сверх тарифного пакета:<br>\n",
        "минута разговора: 1 рубль<br>\n",
        "сообщение: 1 рубль<br>\n",
        "1 Гб интернет-трафика: 150 рублей"
      ]
    },
    {
      "cell_type": "markdown",
      "metadata": {
        "id": "VihmPve-AZyi"
      },
      "source": [
        "#### Загружаем библиотеки и данные  <a id='step_1.2'></a>"
      ]
    },
    {
      "cell_type": "code",
      "metadata": {
        "id": "5kWZc2D5AZyj"
      },
      "source": [
        "import pandas as pd\n",
        "import matplotlib.pyplot as plt\n",
        "from scipy import stats as st\n",
        "import numpy as np"
      ],
      "execution_count": null,
      "outputs": []
    },
    {
      "cell_type": "code",
      "metadata": {
        "id": "tY4ZrJlgAZyk"
      },
      "source": [
        "data_calls = pd.read_csv('calls.csv')\n",
        "data_internet = pd.read_csv('internet.csv')\n",
        "data_messages = pd.read_csv('messages.csv')\n",
        "data_tariffs = pd.read_csv('tariffs.csv')\n",
        "data_users = pd.read_csv('users.csv')"
      ],
      "execution_count": null,
      "outputs": []
    },
    {
      "cell_type": "markdown",
      "metadata": {
        "id": "3YHdpD-pAZyl"
      },
      "source": [
        "#### Ознакомление с данными <a id='step_1.3'></a>"
      ]
    },
    {
      "cell_type": "markdown",
      "metadata": {
        "id": "bFBuQ9-vAZyl"
      },
      "source": [
        "##### Звонки <a id='step_1.4'></a>"
      ]
    },
    {
      "cell_type": "code",
      "metadata": {
        "scrolled": true,
        "id": "GiwCdAWUAZyl",
        "outputId": "54659180-bc22-47ab-d366-aaa6ade6b3a9"
      },
      "source": [
        "data_calls.head()"
      ],
      "execution_count": null,
      "outputs": [
        {
          "output_type": "execute_result",
          "data": {
            "text/html": [
              "<div>\n",
              "<style scoped>\n",
              "    .dataframe tbody tr th:only-of-type {\n",
              "        vertical-align: middle;\n",
              "    }\n",
              "\n",
              "    .dataframe tbody tr th {\n",
              "        vertical-align: top;\n",
              "    }\n",
              "\n",
              "    .dataframe thead th {\n",
              "        text-align: right;\n",
              "    }\n",
              "</style>\n",
              "<table border=\"1\" class=\"dataframe\">\n",
              "  <thead>\n",
              "    <tr style=\"text-align: right;\">\n",
              "      <th></th>\n",
              "      <th>id</th>\n",
              "      <th>call_date</th>\n",
              "      <th>duration</th>\n",
              "      <th>user_id</th>\n",
              "    </tr>\n",
              "  </thead>\n",
              "  <tbody>\n",
              "    <tr>\n",
              "      <td>0</td>\n",
              "      <td>1000_0</td>\n",
              "      <td>2018-07-25</td>\n",
              "      <td>0.00</td>\n",
              "      <td>1000</td>\n",
              "    </tr>\n",
              "    <tr>\n",
              "      <td>1</td>\n",
              "      <td>1000_1</td>\n",
              "      <td>2018-08-17</td>\n",
              "      <td>0.00</td>\n",
              "      <td>1000</td>\n",
              "    </tr>\n",
              "    <tr>\n",
              "      <td>2</td>\n",
              "      <td>1000_2</td>\n",
              "      <td>2018-06-11</td>\n",
              "      <td>2.85</td>\n",
              "      <td>1000</td>\n",
              "    </tr>\n",
              "    <tr>\n",
              "      <td>3</td>\n",
              "      <td>1000_3</td>\n",
              "      <td>2018-09-21</td>\n",
              "      <td>13.80</td>\n",
              "      <td>1000</td>\n",
              "    </tr>\n",
              "    <tr>\n",
              "      <td>4</td>\n",
              "      <td>1000_4</td>\n",
              "      <td>2018-12-15</td>\n",
              "      <td>5.18</td>\n",
              "      <td>1000</td>\n",
              "    </tr>\n",
              "  </tbody>\n",
              "</table>\n",
              "</div>"
            ],
            "text/plain": [
              "       id   call_date  duration  user_id\n",
              "0  1000_0  2018-07-25      0.00     1000\n",
              "1  1000_1  2018-08-17      0.00     1000\n",
              "2  1000_2  2018-06-11      2.85     1000\n",
              "3  1000_3  2018-09-21     13.80     1000\n",
              "4  1000_4  2018-12-15      5.18     1000"
            ]
          },
          "metadata": {
            "tags": []
          },
          "execution_count": 3
        }
      ]
    },
    {
      "cell_type": "code",
      "metadata": {
        "scrolled": true,
        "id": "4MguSTTxAZyn",
        "outputId": "8d90d327-fb73-438f-c3dd-f3a2979bc7db"
      },
      "source": [
        "data_calls.describe()"
      ],
      "execution_count": null,
      "outputs": [
        {
          "output_type": "execute_result",
          "data": {
            "text/html": [
              "<div>\n",
              "<style scoped>\n",
              "    .dataframe tbody tr th:only-of-type {\n",
              "        vertical-align: middle;\n",
              "    }\n",
              "\n",
              "    .dataframe tbody tr th {\n",
              "        vertical-align: top;\n",
              "    }\n",
              "\n",
              "    .dataframe thead th {\n",
              "        text-align: right;\n",
              "    }\n",
              "</style>\n",
              "<table border=\"1\" class=\"dataframe\">\n",
              "  <thead>\n",
              "    <tr style=\"text-align: right;\">\n",
              "      <th></th>\n",
              "      <th>duration</th>\n",
              "      <th>user_id</th>\n",
              "    </tr>\n",
              "  </thead>\n",
              "  <tbody>\n",
              "    <tr>\n",
              "      <td>count</td>\n",
              "      <td>202607.000000</td>\n",
              "      <td>202607.000000</td>\n",
              "    </tr>\n",
              "    <tr>\n",
              "      <td>mean</td>\n",
              "      <td>6.755887</td>\n",
              "      <td>1253.940619</td>\n",
              "    </tr>\n",
              "    <tr>\n",
              "      <td>std</td>\n",
              "      <td>5.843365</td>\n",
              "      <td>144.722751</td>\n",
              "    </tr>\n",
              "    <tr>\n",
              "      <td>min</td>\n",
              "      <td>0.000000</td>\n",
              "      <td>1000.000000</td>\n",
              "    </tr>\n",
              "    <tr>\n",
              "      <td>25%</td>\n",
              "      <td>1.300000</td>\n",
              "      <td>1126.000000</td>\n",
              "    </tr>\n",
              "    <tr>\n",
              "      <td>50%</td>\n",
              "      <td>6.000000</td>\n",
              "      <td>1260.000000</td>\n",
              "    </tr>\n",
              "    <tr>\n",
              "      <td>75%</td>\n",
              "      <td>10.700000</td>\n",
              "      <td>1379.000000</td>\n",
              "    </tr>\n",
              "    <tr>\n",
              "      <td>max</td>\n",
              "      <td>38.000000</td>\n",
              "      <td>1499.000000</td>\n",
              "    </tr>\n",
              "  </tbody>\n",
              "</table>\n",
              "</div>"
            ],
            "text/plain": [
              "            duration        user_id\n",
              "count  202607.000000  202607.000000\n",
              "mean        6.755887    1253.940619\n",
              "std         5.843365     144.722751\n",
              "min         0.000000    1000.000000\n",
              "25%         1.300000    1126.000000\n",
              "50%         6.000000    1260.000000\n",
              "75%        10.700000    1379.000000\n",
              "max        38.000000    1499.000000"
            ]
          },
          "metadata": {
            "tags": []
          },
          "execution_count": 4
        }
      ]
    },
    {
      "cell_type": "code",
      "metadata": {
        "scrolled": true,
        "id": "tWLzQCnxAZyo",
        "outputId": "68fd4612-8c6d-44d8-dfea-65ace17d82d8"
      },
      "source": [
        "data_calls.info()"
      ],
      "execution_count": null,
      "outputs": [
        {
          "output_type": "stream",
          "text": [
            "<class 'pandas.core.frame.DataFrame'>\n",
            "RangeIndex: 202607 entries, 0 to 202606\n",
            "Data columns (total 4 columns):\n",
            "id           202607 non-null object\n",
            "call_date    202607 non-null object\n",
            "duration     202607 non-null float64\n",
            "user_id      202607 non-null int64\n",
            "dtypes: float64(1), int64(1), object(2)\n",
            "memory usage: 6.2+ MB\n"
          ],
          "name": "stdout"
        }
      ]
    },
    {
      "cell_type": "markdown",
      "metadata": {
        "id": "T6F20NBmAZyo"
      },
      "source": [
        "##### Интернет <a id='step_1.5'></a>"
      ]
    },
    {
      "cell_type": "code",
      "metadata": {
        "scrolled": true,
        "id": "FpAhMNPLAZyp",
        "outputId": "91d9cfe8-ca8b-4a04-cc1d-786dc38013c0"
      },
      "source": [
        "data_internet.head()"
      ],
      "execution_count": null,
      "outputs": [
        {
          "output_type": "execute_result",
          "data": {
            "text/html": [
              "<div>\n",
              "<style scoped>\n",
              "    .dataframe tbody tr th:only-of-type {\n",
              "        vertical-align: middle;\n",
              "    }\n",
              "\n",
              "    .dataframe tbody tr th {\n",
              "        vertical-align: top;\n",
              "    }\n",
              "\n",
              "    .dataframe thead th {\n",
              "        text-align: right;\n",
              "    }\n",
              "</style>\n",
              "<table border=\"1\" class=\"dataframe\">\n",
              "  <thead>\n",
              "    <tr style=\"text-align: right;\">\n",
              "      <th></th>\n",
              "      <th>Unnamed: 0</th>\n",
              "      <th>id</th>\n",
              "      <th>mb_used</th>\n",
              "      <th>session_date</th>\n",
              "      <th>user_id</th>\n",
              "    </tr>\n",
              "  </thead>\n",
              "  <tbody>\n",
              "    <tr>\n",
              "      <td>0</td>\n",
              "      <td>0</td>\n",
              "      <td>1000_0</td>\n",
              "      <td>112.95</td>\n",
              "      <td>2018-11-25</td>\n",
              "      <td>1000</td>\n",
              "    </tr>\n",
              "    <tr>\n",
              "      <td>1</td>\n",
              "      <td>1</td>\n",
              "      <td>1000_1</td>\n",
              "      <td>1052.81</td>\n",
              "      <td>2018-09-07</td>\n",
              "      <td>1000</td>\n",
              "    </tr>\n",
              "    <tr>\n",
              "      <td>2</td>\n",
              "      <td>2</td>\n",
              "      <td>1000_2</td>\n",
              "      <td>1197.26</td>\n",
              "      <td>2018-06-25</td>\n",
              "      <td>1000</td>\n",
              "    </tr>\n",
              "    <tr>\n",
              "      <td>3</td>\n",
              "      <td>3</td>\n",
              "      <td>1000_3</td>\n",
              "      <td>550.27</td>\n",
              "      <td>2018-08-22</td>\n",
              "      <td>1000</td>\n",
              "    </tr>\n",
              "    <tr>\n",
              "      <td>4</td>\n",
              "      <td>4</td>\n",
              "      <td>1000_4</td>\n",
              "      <td>302.56</td>\n",
              "      <td>2018-09-24</td>\n",
              "      <td>1000</td>\n",
              "    </tr>\n",
              "  </tbody>\n",
              "</table>\n",
              "</div>"
            ],
            "text/plain": [
              "   Unnamed: 0      id  mb_used session_date  user_id\n",
              "0           0  1000_0   112.95   2018-11-25     1000\n",
              "1           1  1000_1  1052.81   2018-09-07     1000\n",
              "2           2  1000_2  1197.26   2018-06-25     1000\n",
              "3           3  1000_3   550.27   2018-08-22     1000\n",
              "4           4  1000_4   302.56   2018-09-24     1000"
            ]
          },
          "metadata": {
            "tags": []
          },
          "execution_count": 6
        }
      ]
    },
    {
      "cell_type": "code",
      "metadata": {
        "scrolled": false,
        "id": "O1VlkWy9AZyq",
        "outputId": "73551d2e-de1b-4efc-9243-6627cd0dfe32"
      },
      "source": [
        "data_internet.info()"
      ],
      "execution_count": null,
      "outputs": [
        {
          "output_type": "stream",
          "text": [
            "<class 'pandas.core.frame.DataFrame'>\n",
            "RangeIndex: 149396 entries, 0 to 149395\n",
            "Data columns (total 5 columns):\n",
            "Unnamed: 0      149396 non-null int64\n",
            "id              149396 non-null object\n",
            "mb_used         149396 non-null float64\n",
            "session_date    149396 non-null object\n",
            "user_id         149396 non-null int64\n",
            "dtypes: float64(1), int64(2), object(2)\n",
            "memory usage: 5.7+ MB\n"
          ],
          "name": "stdout"
        }
      ]
    },
    {
      "cell_type": "markdown",
      "metadata": {
        "id": "GRUkSAb-AZyr"
      },
      "source": [
        "##### Сообщения <a id='step_1.6'></a>"
      ]
    },
    {
      "cell_type": "code",
      "metadata": {
        "scrolled": false,
        "id": "EV2wbMaPAZyr",
        "outputId": "9a10ded8-a90f-4418-c130-2ef5fe2c4ec7"
      },
      "source": [
        "data_messages.head()"
      ],
      "execution_count": null,
      "outputs": [
        {
          "output_type": "execute_result",
          "data": {
            "text/html": [
              "<div>\n",
              "<style scoped>\n",
              "    .dataframe tbody tr th:only-of-type {\n",
              "        vertical-align: middle;\n",
              "    }\n",
              "\n",
              "    .dataframe tbody tr th {\n",
              "        vertical-align: top;\n",
              "    }\n",
              "\n",
              "    .dataframe thead th {\n",
              "        text-align: right;\n",
              "    }\n",
              "</style>\n",
              "<table border=\"1\" class=\"dataframe\">\n",
              "  <thead>\n",
              "    <tr style=\"text-align: right;\">\n",
              "      <th></th>\n",
              "      <th>id</th>\n",
              "      <th>message_date</th>\n",
              "      <th>user_id</th>\n",
              "    </tr>\n",
              "  </thead>\n",
              "  <tbody>\n",
              "    <tr>\n",
              "      <td>0</td>\n",
              "      <td>1000_0</td>\n",
              "      <td>2018-06-27</td>\n",
              "      <td>1000</td>\n",
              "    </tr>\n",
              "    <tr>\n",
              "      <td>1</td>\n",
              "      <td>1000_1</td>\n",
              "      <td>2018-10-08</td>\n",
              "      <td>1000</td>\n",
              "    </tr>\n",
              "    <tr>\n",
              "      <td>2</td>\n",
              "      <td>1000_2</td>\n",
              "      <td>2018-08-04</td>\n",
              "      <td>1000</td>\n",
              "    </tr>\n",
              "    <tr>\n",
              "      <td>3</td>\n",
              "      <td>1000_3</td>\n",
              "      <td>2018-06-16</td>\n",
              "      <td>1000</td>\n",
              "    </tr>\n",
              "    <tr>\n",
              "      <td>4</td>\n",
              "      <td>1000_4</td>\n",
              "      <td>2018-12-05</td>\n",
              "      <td>1000</td>\n",
              "    </tr>\n",
              "  </tbody>\n",
              "</table>\n",
              "</div>"
            ],
            "text/plain": [
              "       id message_date  user_id\n",
              "0  1000_0   2018-06-27     1000\n",
              "1  1000_1   2018-10-08     1000\n",
              "2  1000_2   2018-08-04     1000\n",
              "3  1000_3   2018-06-16     1000\n",
              "4  1000_4   2018-12-05     1000"
            ]
          },
          "metadata": {
            "tags": []
          },
          "execution_count": 8
        }
      ]
    },
    {
      "cell_type": "code",
      "metadata": {
        "scrolled": true,
        "id": "FCSh2zSnAZys",
        "outputId": "849354bf-66e3-41a5-9db4-92fde595ec97"
      },
      "source": [
        "data_messages.info()"
      ],
      "execution_count": null,
      "outputs": [
        {
          "output_type": "stream",
          "text": [
            "<class 'pandas.core.frame.DataFrame'>\n",
            "RangeIndex: 123036 entries, 0 to 123035\n",
            "Data columns (total 3 columns):\n",
            "id              123036 non-null object\n",
            "message_date    123036 non-null object\n",
            "user_id         123036 non-null int64\n",
            "dtypes: int64(1), object(2)\n",
            "memory usage: 2.8+ MB\n"
          ],
          "name": "stdout"
        }
      ]
    },
    {
      "cell_type": "markdown",
      "metadata": {
        "id": "7eGvde5bAZys"
      },
      "source": [
        "##### Тарифы <a id='step_1.7'></a>"
      ]
    },
    {
      "cell_type": "code",
      "metadata": {
        "scrolled": false,
        "id": "yd56gSRWAZys",
        "outputId": "62d78ac2-7a33-4141-aafa-07add48feeda"
      },
      "source": [
        "data_tariffs"
      ],
      "execution_count": null,
      "outputs": [
        {
          "output_type": "execute_result",
          "data": {
            "text/html": [
              "<div>\n",
              "<style scoped>\n",
              "    .dataframe tbody tr th:only-of-type {\n",
              "        vertical-align: middle;\n",
              "    }\n",
              "\n",
              "    .dataframe tbody tr th {\n",
              "        vertical-align: top;\n",
              "    }\n",
              "\n",
              "    .dataframe thead th {\n",
              "        text-align: right;\n",
              "    }\n",
              "</style>\n",
              "<table border=\"1\" class=\"dataframe\">\n",
              "  <thead>\n",
              "    <tr style=\"text-align: right;\">\n",
              "      <th></th>\n",
              "      <th>messages_included</th>\n",
              "      <th>mb_per_month_included</th>\n",
              "      <th>minutes_included</th>\n",
              "      <th>rub_monthly_fee</th>\n",
              "      <th>rub_per_gb</th>\n",
              "      <th>rub_per_message</th>\n",
              "      <th>rub_per_minute</th>\n",
              "      <th>tariff_name</th>\n",
              "    </tr>\n",
              "  </thead>\n",
              "  <tbody>\n",
              "    <tr>\n",
              "      <td>0</td>\n",
              "      <td>50</td>\n",
              "      <td>15360</td>\n",
              "      <td>500</td>\n",
              "      <td>550</td>\n",
              "      <td>200</td>\n",
              "      <td>3</td>\n",
              "      <td>3</td>\n",
              "      <td>smart</td>\n",
              "    </tr>\n",
              "    <tr>\n",
              "      <td>1</td>\n",
              "      <td>1000</td>\n",
              "      <td>30720</td>\n",
              "      <td>3000</td>\n",
              "      <td>1950</td>\n",
              "      <td>150</td>\n",
              "      <td>1</td>\n",
              "      <td>1</td>\n",
              "      <td>ultra</td>\n",
              "    </tr>\n",
              "  </tbody>\n",
              "</table>\n",
              "</div>"
            ],
            "text/plain": [
              "   messages_included  mb_per_month_included  minutes_included  \\\n",
              "0                 50                  15360               500   \n",
              "1               1000                  30720              3000   \n",
              "\n",
              "   rub_monthly_fee  rub_per_gb  rub_per_message  rub_per_minute tariff_name  \n",
              "0              550         200                3               3       smart  \n",
              "1             1950         150                1               1       ultra  "
            ]
          },
          "metadata": {
            "tags": []
          },
          "execution_count": 10
        }
      ]
    },
    {
      "cell_type": "markdown",
      "metadata": {
        "id": "0I_kIuGjAZyt"
      },
      "source": [
        "##### Клиенты <a id='step_1.8'></a>"
      ]
    },
    {
      "cell_type": "code",
      "metadata": {
        "scrolled": false,
        "id": "I03w0_cRAZyt",
        "outputId": "5721b2d4-c23c-49d6-f94d-3f2608c1fc3f"
      },
      "source": [
        "data_users.head()"
      ],
      "execution_count": null,
      "outputs": [
        {
          "output_type": "execute_result",
          "data": {
            "text/html": [
              "<div>\n",
              "<style scoped>\n",
              "    .dataframe tbody tr th:only-of-type {\n",
              "        vertical-align: middle;\n",
              "    }\n",
              "\n",
              "    .dataframe tbody tr th {\n",
              "        vertical-align: top;\n",
              "    }\n",
              "\n",
              "    .dataframe thead th {\n",
              "        text-align: right;\n",
              "    }\n",
              "</style>\n",
              "<table border=\"1\" class=\"dataframe\">\n",
              "  <thead>\n",
              "    <tr style=\"text-align: right;\">\n",
              "      <th></th>\n",
              "      <th>user_id</th>\n",
              "      <th>age</th>\n",
              "      <th>churn_date</th>\n",
              "      <th>city</th>\n",
              "      <th>first_name</th>\n",
              "      <th>last_name</th>\n",
              "      <th>reg_date</th>\n",
              "      <th>tariff</th>\n",
              "    </tr>\n",
              "  </thead>\n",
              "  <tbody>\n",
              "    <tr>\n",
              "      <td>0</td>\n",
              "      <td>1000</td>\n",
              "      <td>52</td>\n",
              "      <td>NaN</td>\n",
              "      <td>Краснодар</td>\n",
              "      <td>Рафаил</td>\n",
              "      <td>Верещагин</td>\n",
              "      <td>2018-05-25</td>\n",
              "      <td>ultra</td>\n",
              "    </tr>\n",
              "    <tr>\n",
              "      <td>1</td>\n",
              "      <td>1001</td>\n",
              "      <td>41</td>\n",
              "      <td>NaN</td>\n",
              "      <td>Москва</td>\n",
              "      <td>Иван</td>\n",
              "      <td>Ежов</td>\n",
              "      <td>2018-11-01</td>\n",
              "      <td>smart</td>\n",
              "    </tr>\n",
              "    <tr>\n",
              "      <td>2</td>\n",
              "      <td>1002</td>\n",
              "      <td>59</td>\n",
              "      <td>NaN</td>\n",
              "      <td>Стерлитамак</td>\n",
              "      <td>Евгений</td>\n",
              "      <td>Абрамович</td>\n",
              "      <td>2018-06-17</td>\n",
              "      <td>smart</td>\n",
              "    </tr>\n",
              "    <tr>\n",
              "      <td>3</td>\n",
              "      <td>1003</td>\n",
              "      <td>23</td>\n",
              "      <td>NaN</td>\n",
              "      <td>Москва</td>\n",
              "      <td>Белла</td>\n",
              "      <td>Белякова</td>\n",
              "      <td>2018-08-17</td>\n",
              "      <td>ultra</td>\n",
              "    </tr>\n",
              "    <tr>\n",
              "      <td>4</td>\n",
              "      <td>1004</td>\n",
              "      <td>68</td>\n",
              "      <td>NaN</td>\n",
              "      <td>Новокузнецк</td>\n",
              "      <td>Татьяна</td>\n",
              "      <td>Авдеенко</td>\n",
              "      <td>2018-05-14</td>\n",
              "      <td>ultra</td>\n",
              "    </tr>\n",
              "  </tbody>\n",
              "</table>\n",
              "</div>"
            ],
            "text/plain": [
              "   user_id  age churn_date         city first_name  last_name    reg_date  \\\n",
              "0     1000   52        NaN    Краснодар     Рафаил  Верещагин  2018-05-25   \n",
              "1     1001   41        NaN       Москва       Иван       Ежов  2018-11-01   \n",
              "2     1002   59        NaN  Стерлитамак    Евгений  Абрамович  2018-06-17   \n",
              "3     1003   23        NaN       Москва      Белла   Белякова  2018-08-17   \n",
              "4     1004   68        NaN  Новокузнецк    Татьяна   Авдеенко  2018-05-14   \n",
              "\n",
              "  tariff  \n",
              "0  ultra  \n",
              "1  smart  \n",
              "2  smart  \n",
              "3  ultra  \n",
              "4  ultra  "
            ]
          },
          "metadata": {
            "tags": []
          },
          "execution_count": 11
        }
      ]
    },
    {
      "cell_type": "code",
      "metadata": {
        "scrolled": true,
        "id": "fHvxoZ4TAZyt",
        "outputId": "67ffabeb-fbc6-4e74-b3b5-e4eb4831542a"
      },
      "source": [
        "data_users.info()"
      ],
      "execution_count": null,
      "outputs": [
        {
          "output_type": "stream",
          "text": [
            "<class 'pandas.core.frame.DataFrame'>\n",
            "RangeIndex: 500 entries, 0 to 499\n",
            "Data columns (total 8 columns):\n",
            "user_id       500 non-null int64\n",
            "age           500 non-null int64\n",
            "churn_date    38 non-null object\n",
            "city          500 non-null object\n",
            "first_name    500 non-null object\n",
            "last_name     500 non-null object\n",
            "reg_date      500 non-null object\n",
            "tariff        500 non-null object\n",
            "dtypes: int64(2), object(6)\n",
            "memory usage: 31.4+ KB\n"
          ],
          "name": "stdout"
        }
      ]
    },
    {
      "cell_type": "markdown",
      "metadata": {
        "id": "vAhoYW6fAZyu"
      },
      "source": [
        "<a id=\"step_1.end\"></a>\n",
        "### Вывод"
      ]
    },
    {
      "cell_type": "markdown",
      "metadata": {
        "id": "HM9oiTHtAZyu"
      },
      "source": [
        "Данные выгружены успешно, при первоначальном ознакомлении видим, что в основном данные по качесту и наполнению корректны, займёмся приведением данных к требуемым типам в след главе."
      ]
    },
    {
      "cell_type": "markdown",
      "metadata": {
        "id": "HMnDJKr2AZyu"
      },
      "source": [
        "-----"
      ]
    },
    {
      "cell_type": "markdown",
      "metadata": {
        "id": "P174AivNAZyv"
      },
      "source": [
        "<a href='#start'>Вернуться к оглавлению</a>\n",
        "<a id=\"step_2.1\"></a>\n",
        "### Глава 2. Подготовливаем данные"
      ]
    },
    {
      "cell_type": "markdown",
      "metadata": {
        "id": "-xMHeg_aAZyv"
      },
      "source": [
        "#### Приведём данные к нужным типам"
      ]
    },
    {
      "cell_type": "markdown",
      "metadata": {
        "id": "9QnRwOt-AZyv"
      },
      "source": [
        "Начнём с того, что приведём в порядок тип данных в колонке с датой в таблицах Звонки, Интернет, Сообщения и Клиенты"
      ]
    },
    {
      "cell_type": "code",
      "metadata": {
        "id": "0VxYo_tEAZyv"
      },
      "source": [
        "data_calls['call_date'] = pd.to_datetime(data_calls['call_date'], format='%Y-%m-%d')\n",
        "data_internet['session_date'] = pd.to_datetime(data_internet['session_date'], format='%Y-%m-%d')\n",
        "data_messages['message_date'] =pd.to_datetime(data_messages['message_date'], format='%Y-%m-%d')\n",
        "data_users['reg_date'] =pd.to_datetime(data_users['reg_date'], format='%Y-%m-%d')"
      ],
      "execution_count": null,
      "outputs": []
    },
    {
      "cell_type": "markdown",
      "metadata": {
        "id": "B_WDa1X6AZyw"
      },
      "source": [
        "#### Найдём и исправим ошибки в данных <a id=\"step_2.2\"></a>"
      ]
    },
    {
      "cell_type": "markdown",
      "metadata": {
        "id": "wvJQYoH3AZyw"
      },
      "source": [
        "Удалим лишний столбец из таблицы Интернет"
      ]
    },
    {
      "cell_type": "code",
      "metadata": {
        "id": "QS8CEScdAZyw",
        "outputId": "3dfb283a-1da5-45b7-a605-f89a09d5d143"
      },
      "source": [
        "data_internet=data_internet.drop(columns='Unnamed: 0')\n",
        "data_internet.head()"
      ],
      "execution_count": null,
      "outputs": [
        {
          "output_type": "execute_result",
          "data": {
            "text/html": [
              "<div>\n",
              "<style scoped>\n",
              "    .dataframe tbody tr th:only-of-type {\n",
              "        vertical-align: middle;\n",
              "    }\n",
              "\n",
              "    .dataframe tbody tr th {\n",
              "        vertical-align: top;\n",
              "    }\n",
              "\n",
              "    .dataframe thead th {\n",
              "        text-align: right;\n",
              "    }\n",
              "</style>\n",
              "<table border=\"1\" class=\"dataframe\">\n",
              "  <thead>\n",
              "    <tr style=\"text-align: right;\">\n",
              "      <th></th>\n",
              "      <th>id</th>\n",
              "      <th>mb_used</th>\n",
              "      <th>session_date</th>\n",
              "      <th>user_id</th>\n",
              "    </tr>\n",
              "  </thead>\n",
              "  <tbody>\n",
              "    <tr>\n",
              "      <td>0</td>\n",
              "      <td>1000_0</td>\n",
              "      <td>112.95</td>\n",
              "      <td>2018-11-25</td>\n",
              "      <td>1000</td>\n",
              "    </tr>\n",
              "    <tr>\n",
              "      <td>1</td>\n",
              "      <td>1000_1</td>\n",
              "      <td>1052.81</td>\n",
              "      <td>2018-09-07</td>\n",
              "      <td>1000</td>\n",
              "    </tr>\n",
              "    <tr>\n",
              "      <td>2</td>\n",
              "      <td>1000_2</td>\n",
              "      <td>1197.26</td>\n",
              "      <td>2018-06-25</td>\n",
              "      <td>1000</td>\n",
              "    </tr>\n",
              "    <tr>\n",
              "      <td>3</td>\n",
              "      <td>1000_3</td>\n",
              "      <td>550.27</td>\n",
              "      <td>2018-08-22</td>\n",
              "      <td>1000</td>\n",
              "    </tr>\n",
              "    <tr>\n",
              "      <td>4</td>\n",
              "      <td>1000_4</td>\n",
              "      <td>302.56</td>\n",
              "      <td>2018-09-24</td>\n",
              "      <td>1000</td>\n",
              "    </tr>\n",
              "  </tbody>\n",
              "</table>\n",
              "</div>"
            ],
            "text/plain": [
              "       id  mb_used session_date  user_id\n",
              "0  1000_0   112.95   2018-11-25     1000\n",
              "1  1000_1  1052.81   2018-09-07     1000\n",
              "2  1000_2  1197.26   2018-06-25     1000\n",
              "3  1000_3   550.27   2018-08-22     1000\n",
              "4  1000_4   302.56   2018-09-24     1000"
            ]
          },
          "metadata": {
            "tags": []
          },
          "execution_count": 14
        }
      ]
    },
    {
      "cell_type": "markdown",
      "metadata": {
        "id": "filTCMC6AZyw"
      },
      "source": [
        "#### Посчитаем для каждого пользователя: <a id=\"step_2.3\"></a>\n",
        "   ##### Количество сделанных звонков и израсходованных минут разговора по месяцам\n"
      ]
    },
    {
      "cell_type": "markdown",
      "metadata": {
        "id": "hT7Hi8KBAZyx"
      },
      "source": [
        "Для начала добавим столбец с месяцами в датасет со звонками"
      ]
    },
    {
      "cell_type": "code",
      "metadata": {
        "id": "1kOfESBlAZyx",
        "outputId": "d28a22e5-e0f3-4821-cebd-cfc3336ef19e"
      },
      "source": [
        "data_calls['month'] = pd.DatetimeIndex(data_calls['call_date']).month\n",
        "data_calls.head()"
      ],
      "execution_count": null,
      "outputs": [
        {
          "output_type": "execute_result",
          "data": {
            "text/html": [
              "<div>\n",
              "<style scoped>\n",
              "    .dataframe tbody tr th:only-of-type {\n",
              "        vertical-align: middle;\n",
              "    }\n",
              "\n",
              "    .dataframe tbody tr th {\n",
              "        vertical-align: top;\n",
              "    }\n",
              "\n",
              "    .dataframe thead th {\n",
              "        text-align: right;\n",
              "    }\n",
              "</style>\n",
              "<table border=\"1\" class=\"dataframe\">\n",
              "  <thead>\n",
              "    <tr style=\"text-align: right;\">\n",
              "      <th></th>\n",
              "      <th>id</th>\n",
              "      <th>call_date</th>\n",
              "      <th>duration</th>\n",
              "      <th>user_id</th>\n",
              "      <th>month</th>\n",
              "    </tr>\n",
              "  </thead>\n",
              "  <tbody>\n",
              "    <tr>\n",
              "      <td>0</td>\n",
              "      <td>1000_0</td>\n",
              "      <td>2018-07-25</td>\n",
              "      <td>0.00</td>\n",
              "      <td>1000</td>\n",
              "      <td>7</td>\n",
              "    </tr>\n",
              "    <tr>\n",
              "      <td>1</td>\n",
              "      <td>1000_1</td>\n",
              "      <td>2018-08-17</td>\n",
              "      <td>0.00</td>\n",
              "      <td>1000</td>\n",
              "      <td>8</td>\n",
              "    </tr>\n",
              "    <tr>\n",
              "      <td>2</td>\n",
              "      <td>1000_2</td>\n",
              "      <td>2018-06-11</td>\n",
              "      <td>2.85</td>\n",
              "      <td>1000</td>\n",
              "      <td>6</td>\n",
              "    </tr>\n",
              "    <tr>\n",
              "      <td>3</td>\n",
              "      <td>1000_3</td>\n",
              "      <td>2018-09-21</td>\n",
              "      <td>13.80</td>\n",
              "      <td>1000</td>\n",
              "      <td>9</td>\n",
              "    </tr>\n",
              "    <tr>\n",
              "      <td>4</td>\n",
              "      <td>1000_4</td>\n",
              "      <td>2018-12-15</td>\n",
              "      <td>5.18</td>\n",
              "      <td>1000</td>\n",
              "      <td>12</td>\n",
              "    </tr>\n",
              "  </tbody>\n",
              "</table>\n",
              "</div>"
            ],
            "text/plain": [
              "       id  call_date  duration  user_id  month\n",
              "0  1000_0 2018-07-25      0.00     1000      7\n",
              "1  1000_1 2018-08-17      0.00     1000      8\n",
              "2  1000_2 2018-06-11      2.85     1000      6\n",
              "3  1000_3 2018-09-21     13.80     1000      9\n",
              "4  1000_4 2018-12-15      5.18     1000     12"
            ]
          },
          "metadata": {
            "tags": []
          },
          "execution_count": 15
        }
      ]
    },
    {
      "cell_type": "code",
      "metadata": {
        "id": "mqKlyrFYAZyx"
      },
      "source": [
        "data_pivot_call=data_calls.pivot_table(index='month', values='duration', aggfunc=['count','sum'])\n",
        "data_pivot_call.columns=['value_call','sum_call']"
      ],
      "execution_count": null,
      "outputs": []
    },
    {
      "cell_type": "markdown",
      "metadata": {
        "id": "g89YwFebAZyy"
      },
      "source": [
        "Построим график для наглядности распределения данных по месяцам"
      ]
    },
    {
      "cell_type": "code",
      "metadata": {
        "scrolled": true,
        "id": "GqDRww-gAZyy",
        "outputId": "807ebefd-a145-4c11-d4c6-888f1b4c1ba2"
      },
      "source": [
        "data_pivot_call.plot(grid=True, title='Количество сделанных звонков и израсходованных минут разговора по месяцам',figsize=(15,5))\n",
        "plt.show()"
      ],
      "execution_count": null,
      "outputs": [
        {
          "output_type": "display_data",
          "data": {
            "image/png": "[encoded data removed]",
            "text/plain": [
              "<Figure size 1080x360 with 1 Axes>"
            ]
          },
          "metadata": {
            "tags": [],
            "needs_background": "light"
          }
        }
      ]
    },
    {
      "cell_type": "markdown",
      "metadata": {
        "id": "yIK_IjbDAZyy"
      },
      "source": [
        "         Из графика хорошо видно, что идёт тенденция на увеличение времени разговора, т.к. количество звонков растёт с меньшей скоростью."
      ]
    },
    {
      "cell_type": "markdown",
      "metadata": {
        "id": "NaT82vMQAZyy"
      },
      "source": [
        "##### Количество отправленных сообщений по месяцам <a id=\"step_2.4\"></a>\n"
      ]
    },
    {
      "cell_type": "markdown",
      "metadata": {
        "id": "0gJ-ARZHAZyz"
      },
      "source": [
        "Добавим дополнительный столбец с месяцами в таблицу с данными по сообщениям"
      ]
    },
    {
      "cell_type": "code",
      "metadata": {
        "scrolled": true,
        "id": "8bRtK6pFAZyz",
        "outputId": "189c8323-40b1-4c95-f6de-a1ae8ede153c"
      },
      "source": [
        "data_messages['month'] = pd.DatetimeIndex(data_messages['message_date']).month\n",
        "data_messages.head()"
      ],
      "execution_count": null,
      "outputs": [
        {
          "output_type": "execute_result",
          "data": {
            "text/html": [
              "<div>\n",
              "<style scoped>\n",
              "    .dataframe tbody tr th:only-of-type {\n",
              "        vertical-align: middle;\n",
              "    }\n",
              "\n",
              "    .dataframe tbody tr th {\n",
              "        vertical-align: top;\n",
              "    }\n",
              "\n",
              "    .dataframe thead th {\n",
              "        text-align: right;\n",
              "    }\n",
              "</style>\n",
              "<table border=\"1\" class=\"dataframe\">\n",
              "  <thead>\n",
              "    <tr style=\"text-align: right;\">\n",
              "      <th></th>\n",
              "      <th>id</th>\n",
              "      <th>message_date</th>\n",
              "      <th>user_id</th>\n",
              "      <th>month</th>\n",
              "    </tr>\n",
              "  </thead>\n",
              "  <tbody>\n",
              "    <tr>\n",
              "      <td>0</td>\n",
              "      <td>1000_0</td>\n",
              "      <td>2018-06-27</td>\n",
              "      <td>1000</td>\n",
              "      <td>6</td>\n",
              "    </tr>\n",
              "    <tr>\n",
              "      <td>1</td>\n",
              "      <td>1000_1</td>\n",
              "      <td>2018-10-08</td>\n",
              "      <td>1000</td>\n",
              "      <td>10</td>\n",
              "    </tr>\n",
              "    <tr>\n",
              "      <td>2</td>\n",
              "      <td>1000_2</td>\n",
              "      <td>2018-08-04</td>\n",
              "      <td>1000</td>\n",
              "      <td>8</td>\n",
              "    </tr>\n",
              "    <tr>\n",
              "      <td>3</td>\n",
              "      <td>1000_3</td>\n",
              "      <td>2018-06-16</td>\n",
              "      <td>1000</td>\n",
              "      <td>6</td>\n",
              "    </tr>\n",
              "    <tr>\n",
              "      <td>4</td>\n",
              "      <td>1000_4</td>\n",
              "      <td>2018-12-05</td>\n",
              "      <td>1000</td>\n",
              "      <td>12</td>\n",
              "    </tr>\n",
              "  </tbody>\n",
              "</table>\n",
              "</div>"
            ],
            "text/plain": [
              "       id message_date  user_id  month\n",
              "0  1000_0   2018-06-27     1000      6\n",
              "1  1000_1   2018-10-08     1000     10\n",
              "2  1000_2   2018-08-04     1000      8\n",
              "3  1000_3   2018-06-16     1000      6\n",
              "4  1000_4   2018-12-05     1000     12"
            ]
          },
          "metadata": {
            "tags": []
          },
          "execution_count": 18
        }
      ]
    },
    {
      "cell_type": "code",
      "metadata": {
        "id": "B2OqEeQCAZyz"
      },
      "source": [
        "data_mess_pivot=data_messages.pivot_table(index='month', values='message_date', aggfunc='count')\n",
        "data_mess_pivot.columns=['count_message']"
      ],
      "execution_count": null,
      "outputs": []
    },
    {
      "cell_type": "code",
      "metadata": {
        "scrolled": true,
        "id": "36o_jDpwAZy0",
        "outputId": "95fb0f05-d6da-4cae-b581-1941305489ff"
      },
      "source": [
        "data_mess_pivot.plot(grid=True, title='Количество отправленных сообщений по месяцам',figsize=(15,5))\n",
        "\n",
        "plt.show()"
      ],
      "execution_count": null,
      "outputs": [
        {
          "output_type": "display_data",
          "data": {
            "image/png": "[encoded data removed]",
            "text/plain": [
              "<Figure size 1080x360 with 1 Axes>"
            ]
          },
          "metadata": {
            "tags": [],
            "needs_background": "light"
          }
        }
      ]
    },
    {
      "cell_type": "markdown",
      "metadata": {
        "id": "jIVuVy7fAZy0"
      },
      "source": [
        "        На графике виден очевидный рост по количеству ежемесячному количеству отправляемых сообщений "
      ]
    },
    {
      "cell_type": "markdown",
      "metadata": {
        "id": "UB8S0SzxAZy0"
      },
      "source": [
        "##### Объем израсходованного интернет-трафика по месяцам <a id=\"step_2.5\"></a>\n"
      ]
    },
    {
      "cell_type": "markdown",
      "metadata": {
        "id": "eBv_XzyeAZy0"
      },
      "source": [
        "Добавим дополнительный столбец с месяцами в таблицу с данными по использованию интернет-трафика"
      ]
    },
    {
      "cell_type": "code",
      "metadata": {
        "scrolled": true,
        "id": "nGikbiCiAZy1",
        "outputId": "26b024b3-c1a2-456b-bf65-29f577541ffa"
      },
      "source": [
        "data_internet['month'] = pd.DatetimeIndex(data_internet['session_date']).month\n",
        "data_internet.head()"
      ],
      "execution_count": null,
      "outputs": [
        {
          "output_type": "execute_result",
          "data": {
            "text/html": [
              "<div>\n",
              "<style scoped>\n",
              "    .dataframe tbody tr th:only-of-type {\n",
              "        vertical-align: middle;\n",
              "    }\n",
              "\n",
              "    .dataframe tbody tr th {\n",
              "        vertical-align: top;\n",
              "    }\n",
              "\n",
              "    .dataframe thead th {\n",
              "        text-align: right;\n",
              "    }\n",
              "</style>\n",
              "<table border=\"1\" class=\"dataframe\">\n",
              "  <thead>\n",
              "    <tr style=\"text-align: right;\">\n",
              "      <th></th>\n",
              "      <th>id</th>\n",
              "      <th>mb_used</th>\n",
              "      <th>session_date</th>\n",
              "      <th>user_id</th>\n",
              "      <th>month</th>\n",
              "    </tr>\n",
              "  </thead>\n",
              "  <tbody>\n",
              "    <tr>\n",
              "      <td>0</td>\n",
              "      <td>1000_0</td>\n",
              "      <td>112.95</td>\n",
              "      <td>2018-11-25</td>\n",
              "      <td>1000</td>\n",
              "      <td>11</td>\n",
              "    </tr>\n",
              "    <tr>\n",
              "      <td>1</td>\n",
              "      <td>1000_1</td>\n",
              "      <td>1052.81</td>\n",
              "      <td>2018-09-07</td>\n",
              "      <td>1000</td>\n",
              "      <td>9</td>\n",
              "    </tr>\n",
              "    <tr>\n",
              "      <td>2</td>\n",
              "      <td>1000_2</td>\n",
              "      <td>1197.26</td>\n",
              "      <td>2018-06-25</td>\n",
              "      <td>1000</td>\n",
              "      <td>6</td>\n",
              "    </tr>\n",
              "    <tr>\n",
              "      <td>3</td>\n",
              "      <td>1000_3</td>\n",
              "      <td>550.27</td>\n",
              "      <td>2018-08-22</td>\n",
              "      <td>1000</td>\n",
              "      <td>8</td>\n",
              "    </tr>\n",
              "    <tr>\n",
              "      <td>4</td>\n",
              "      <td>1000_4</td>\n",
              "      <td>302.56</td>\n",
              "      <td>2018-09-24</td>\n",
              "      <td>1000</td>\n",
              "      <td>9</td>\n",
              "    </tr>\n",
              "  </tbody>\n",
              "</table>\n",
              "</div>"
            ],
            "text/plain": [
              "       id  mb_used session_date  user_id  month\n",
              "0  1000_0   112.95   2018-11-25     1000     11\n",
              "1  1000_1  1052.81   2018-09-07     1000      9\n",
              "2  1000_2  1197.26   2018-06-25     1000      6\n",
              "3  1000_3   550.27   2018-08-22     1000      8\n",
              "4  1000_4   302.56   2018-09-24     1000      9"
            ]
          },
          "metadata": {
            "tags": []
          },
          "execution_count": 21
        }
      ]
    },
    {
      "cell_type": "code",
      "metadata": {
        "id": "6o0T2nZlAZy4",
        "outputId": "71ffa6d4-fc34-46c2-c2fd-62cdef9c9a79"
      },
      "source": [
        "data_int_pivot=data_internet.pivot_table(index='month', values='mb_used', aggfunc='sum')\n",
        "data_int_pivot.plot(grid=True, title='Объем израсходованного интернет-трафика по месяцам',figsize=(15,5))\n",
        "\n",
        "plt.show()"
      ],
      "execution_count": null,
      "outputs": [
        {
          "output_type": "display_data",
          "data": {
            "image/png": "[encoded data removed]",
            "text/plain": [
              "<Figure size 1080x360 with 1 Axes>"
            ]
          },
          "metadata": {
            "tags": [],
            "needs_background": "light"
          }
        }
      ]
    },
    {
      "cell_type": "markdown",
      "metadata": {
        "id": "gGdmdmvzAZy5"
      },
      "source": [
        "        На графике так же явно прослеживается рост использования траффика интернета"
      ]
    },
    {
      "cell_type": "markdown",
      "metadata": {
        "id": "a1zN6aHwAZy5"
      },
      "source": [
        "##### Помесячную выручку с каждого пользователя  <a id=\"step_2.6\"></a>\n"
      ]
    },
    {
      "cell_type": "markdown",
      "metadata": {
        "id": "l0Z152wvAZy5"
      },
      "source": [
        "####  Приведём все таблицы к одному порядку и сгруппируем по данным \"user_id\" и \"month\""
      ]
    },
    {
      "cell_type": "markdown",
      "metadata": {
        "id": "bAF_EHICAZy6"
      },
      "source": [
        "Звонки:"
      ]
    },
    {
      "cell_type": "code",
      "metadata": {
        "scrolled": true,
        "id": "POGdPWYPAZy6"
      },
      "source": [
        "calls=data_calls.pivot_table(index=['user_id','month'], values='duration', aggfunc=['sum','count'])"
      ],
      "execution_count": null,
      "outputs": []
    },
    {
      "cell_type": "code",
      "metadata": {
        "scrolled": true,
        "id": "Q674P2RwAZy7"
      },
      "source": [
        "calls.columns=['minutes','count_calls']"
      ],
      "execution_count": null,
      "outputs": []
    },
    {
      "cell_type": "markdown",
      "metadata": {
        "id": "XZ-KzBb0AZy7"
      },
      "source": [
        "Округлим значения минут до целого числа в большую сторону методом np.ceil()"
      ]
    },
    {
      "cell_type": "code",
      "metadata": {
        "id": "kLwfqSJCAZy8",
        "outputId": "1864ebc8-08d1-4399-8d1f-398b58420cb5"
      },
      "source": [
        "calls=np.ceil(calls)\n",
        "calls.head()"
      ],
      "execution_count": null,
      "outputs": [
        {
          "output_type": "execute_result",
          "data": {
            "text/html": [
              "<div>\n",
              "<style scoped>\n",
              "    .dataframe tbody tr th:only-of-type {\n",
              "        vertical-align: middle;\n",
              "    }\n",
              "\n",
              "    .dataframe tbody tr th {\n",
              "        vertical-align: top;\n",
              "    }\n",
              "\n",
              "    .dataframe thead th {\n",
              "        text-align: right;\n",
              "    }\n",
              "</style>\n",
              "<table border=\"1\" class=\"dataframe\">\n",
              "  <thead>\n",
              "    <tr style=\"text-align: right;\">\n",
              "      <th></th>\n",
              "      <th></th>\n",
              "      <th>minutes</th>\n",
              "      <th>count_calls</th>\n",
              "    </tr>\n",
              "    <tr>\n",
              "      <th>user_id</th>\n",
              "      <th>month</th>\n",
              "      <th></th>\n",
              "      <th></th>\n",
              "    </tr>\n",
              "  </thead>\n",
              "  <tbody>\n",
              "    <tr>\n",
              "      <td rowspan=\"5\" valign=\"top\">1000</td>\n",
              "      <td>5</td>\n",
              "      <td>151.0</td>\n",
              "      <td>22.0</td>\n",
              "    </tr>\n",
              "    <tr>\n",
              "      <td>6</td>\n",
              "      <td>159.0</td>\n",
              "      <td>43.0</td>\n",
              "    </tr>\n",
              "    <tr>\n",
              "      <td>7</td>\n",
              "      <td>319.0</td>\n",
              "      <td>47.0</td>\n",
              "    </tr>\n",
              "    <tr>\n",
              "      <td>8</td>\n",
              "      <td>390.0</td>\n",
              "      <td>52.0</td>\n",
              "    </tr>\n",
              "    <tr>\n",
              "      <td>9</td>\n",
              "      <td>441.0</td>\n",
              "      <td>58.0</td>\n",
              "    </tr>\n",
              "  </tbody>\n",
              "</table>\n",
              "</div>"
            ],
            "text/plain": [
              "               minutes  count_calls\n",
              "user_id month                      \n",
              "1000    5        151.0         22.0\n",
              "        6        159.0         43.0\n",
              "        7        319.0         47.0\n",
              "        8        390.0         52.0\n",
              "        9        441.0         58.0"
            ]
          },
          "metadata": {
            "tags": []
          },
          "execution_count": 25
        }
      ]
    },
    {
      "cell_type": "markdown",
      "metadata": {
        "id": "OwOLu1FbAZy8"
      },
      "source": [
        "Интернет:"
      ]
    },
    {
      "cell_type": "code",
      "metadata": {
        "id": "3RIq1OIDAZy9"
      },
      "source": [
        "internet=data_internet.pivot_table(index=['user_id','month'], values='mb_used', aggfunc=['sum'])"
      ],
      "execution_count": null,
      "outputs": []
    },
    {
      "cell_type": "code",
      "metadata": {
        "scrolled": true,
        "id": "ElN5vyCFAZy9"
      },
      "source": [
        "internet.columns=['mb_used_sum']\n"
      ],
      "execution_count": null,
      "outputs": []
    },
    {
      "cell_type": "markdown",
      "metadata": {
        "id": "pzVwzxd7AZy-"
      },
      "source": [
        "Выполним так же округление израсходованного трафика на интернет в большую сторону."
      ]
    },
    {
      "cell_type": "code",
      "metadata": {
        "id": "BOI-WltDAZy-",
        "outputId": "82e5a328-b584-4947-e6a7-b35688de7e01"
      },
      "source": [
        "internet=np.ceil(internet)\n",
        "internet.head()"
      ],
      "execution_count": null,
      "outputs": [
        {
          "output_type": "execute_result",
          "data": {
            "text/html": [
              "<div>\n",
              "<style scoped>\n",
              "    .dataframe tbody tr th:only-of-type {\n",
              "        vertical-align: middle;\n",
              "    }\n",
              "\n",
              "    .dataframe tbody tr th {\n",
              "        vertical-align: top;\n",
              "    }\n",
              "\n",
              "    .dataframe thead th {\n",
              "        text-align: right;\n",
              "    }\n",
              "</style>\n",
              "<table border=\"1\" class=\"dataframe\">\n",
              "  <thead>\n",
              "    <tr style=\"text-align: right;\">\n",
              "      <th></th>\n",
              "      <th></th>\n",
              "      <th>mb_used_sum</th>\n",
              "    </tr>\n",
              "    <tr>\n",
              "      <th>user_id</th>\n",
              "      <th>month</th>\n",
              "      <th></th>\n",
              "    </tr>\n",
              "  </thead>\n",
              "  <tbody>\n",
              "    <tr>\n",
              "      <td rowspan=\"5\" valign=\"top\">1000</td>\n",
              "      <td>5</td>\n",
              "      <td>2254.0</td>\n",
              "    </tr>\n",
              "    <tr>\n",
              "      <td>6</td>\n",
              "      <td>23234.0</td>\n",
              "    </tr>\n",
              "    <tr>\n",
              "      <td>7</td>\n",
              "      <td>14004.0</td>\n",
              "    </tr>\n",
              "    <tr>\n",
              "      <td>8</td>\n",
              "      <td>14056.0</td>\n",
              "    </tr>\n",
              "    <tr>\n",
              "      <td>9</td>\n",
              "      <td>14569.0</td>\n",
              "    </tr>\n",
              "  </tbody>\n",
              "</table>\n",
              "</div>"
            ],
            "text/plain": [
              "               mb_used_sum\n",
              "user_id month             \n",
              "1000    5           2254.0\n",
              "        6          23234.0\n",
              "        7          14004.0\n",
              "        8          14056.0\n",
              "        9          14569.0"
            ]
          },
          "metadata": {
            "tags": []
          },
          "execution_count": 28
        }
      ]
    },
    {
      "cell_type": "markdown",
      "metadata": {
        "id": "J8-fJZHMAZy_"
      },
      "source": [
        "Сообщения:"
      ]
    },
    {
      "cell_type": "code",
      "metadata": {
        "id": "YiqxaGUTAZy_"
      },
      "source": [
        "messages=data_messages.pivot_table(index=['user_id','month'], values='message_date', aggfunc=['count'])"
      ],
      "execution_count": null,
      "outputs": []
    },
    {
      "cell_type": "code",
      "metadata": {
        "scrolled": false,
        "id": "jriRsghqAZy_",
        "outputId": "6cac4d64-9da2-4a65-86c6-cbbe2f909612"
      },
      "source": [
        "messages.columns=['message_count']\n",
        "messages.head()"
      ],
      "execution_count": null,
      "outputs": [
        {
          "output_type": "execute_result",
          "data": {
            "text/html": [
              "<div>\n",
              "<style scoped>\n",
              "    .dataframe tbody tr th:only-of-type {\n",
              "        vertical-align: middle;\n",
              "    }\n",
              "\n",
              "    .dataframe tbody tr th {\n",
              "        vertical-align: top;\n",
              "    }\n",
              "\n",
              "    .dataframe thead th {\n",
              "        text-align: right;\n",
              "    }\n",
              "</style>\n",
              "<table border=\"1\" class=\"dataframe\">\n",
              "  <thead>\n",
              "    <tr style=\"text-align: right;\">\n",
              "      <th></th>\n",
              "      <th></th>\n",
              "      <th>message_count</th>\n",
              "    </tr>\n",
              "    <tr>\n",
              "      <th>user_id</th>\n",
              "      <th>month</th>\n",
              "      <th></th>\n",
              "    </tr>\n",
              "  </thead>\n",
              "  <tbody>\n",
              "    <tr>\n",
              "      <td rowspan=\"5\" valign=\"top\">1000</td>\n",
              "      <td>5</td>\n",
              "      <td>22</td>\n",
              "    </tr>\n",
              "    <tr>\n",
              "      <td>6</td>\n",
              "      <td>60</td>\n",
              "    </tr>\n",
              "    <tr>\n",
              "      <td>7</td>\n",
              "      <td>75</td>\n",
              "    </tr>\n",
              "    <tr>\n",
              "      <td>8</td>\n",
              "      <td>81</td>\n",
              "    </tr>\n",
              "    <tr>\n",
              "      <td>9</td>\n",
              "      <td>57</td>\n",
              "    </tr>\n",
              "  </tbody>\n",
              "</table>\n",
              "</div>"
            ],
            "text/plain": [
              "               message_count\n",
              "user_id month               \n",
              "1000    5                 22\n",
              "        6                 60\n",
              "        7                 75\n",
              "        8                 81\n",
              "        9                 57"
            ]
          },
          "metadata": {
            "tags": []
          },
          "execution_count": 30
        }
      ]
    },
    {
      "cell_type": "markdown",
      "metadata": {
        "id": "p1gjmpVRAZzA"
      },
      "source": [
        "Отлично, все таблицы приведены к одному формату, теперь можно начать процесс объединения данных"
      ]
    },
    {
      "cell_type": "markdown",
      "metadata": {
        "id": "uNs73hS7AZzA"
      },
      "source": [
        "#### Объеденим все таблицы"
      ]
    },
    {
      "cell_type": "code",
      "metadata": {
        "id": "ltPOMh7jAv1t"
      },
      "source": [
        "merge_data=pd.merge(calls,internet, on=['user_id','month'], how='left')"
      ],
      "execution_count": null,
      "outputs": []
    },
    {
      "cell_type": "code",
      "metadata": {
        "id": "L5JMshhYAZzB"
      },
      "source": [
        "merge_data_2=pd.merge(merge_data,messages, on=['user_id','month'], how='left')"
      ],
      "execution_count": null,
      "outputs": []
    },
    {
      "cell_type": "code",
      "metadata": {
        "scrolled": true,
        "id": "HOY8pwzOAZzC"
      },
      "source": [
        "merge_data_2=merge_data_2.reset_index()"
      ],
      "execution_count": null,
      "outputs": []
    },
    {
      "cell_type": "code",
      "metadata": {
        "id": "pV2s-c4lAZzC"
      },
      "source": [
        "merge_data_3=pd.merge(merge_data_2,data_users, on=['user_id'], how='outer')"
      ],
      "execution_count": null,
      "outputs": []
    },
    {
      "cell_type": "markdown",
      "metadata": {
        "id": "yV8kV1DQAZzC"
      },
      "source": [
        "Проверяем результат"
      ]
    },
    {
      "cell_type": "code",
      "metadata": {
        "scrolled": true,
        "id": "pdiSh15vAZzD"
      },
      "source": [
        "merge_data_3.head()"
      ],
      "execution_count": null,
      "outputs": []
    },
    {
      "cell_type": "markdown",
      "metadata": {
        "id": "vp_blLAEAZzD"
      },
      "source": [
        "Отлично теперь присвоим названия столбцов, в зависимости от их содержимого"
      ]
    },
    {
      "cell_type": "code",
      "metadata": {
        "id": "W60xyb0mAZzE"
      },
      "source": [
        "data_tariffs.columns=['messages_included', 'mb_per_month_included', 'minutes_included',\n",
        "       'rub_monthly_fee', 'rub_per_gb', 'rub_per_message', 'rub_per_minute',\n",
        "       'tariff']"
      ],
      "execution_count": null,
      "outputs": []
    },
    {
      "cell_type": "markdown",
      "metadata": {
        "id": "NUMKoH74AZzE"
      },
      "source": [
        "Теперь можно объеденить нашу сборную таблицу с тарифами, для удобства работы"
      ]
    },
    {
      "cell_type": "code",
      "metadata": {
        "id": "tZKZhjulAZzE"
      },
      "source": [
        "final_data=pd.merge(merge_data_3,data_tariffs, on=['tariff'], how='left')"
      ],
      "execution_count": null,
      "outputs": []
    },
    {
      "cell_type": "code",
      "metadata": {
        "scrolled": false,
        "id": "fz2OLsAiAZzF"
      },
      "source": [
        "final_data.head()"
      ],
      "execution_count": null,
      "outputs": []
    },
    {
      "cell_type": "markdown",
      "metadata": {
        "id": "KPCXR_O-AZzF"
      },
      "source": [
        "Отлично, все таблицы объеденины в один датасет теперь можно приступить к расчётам. Напишем функцию, которая будет высчитывать затраты каждого пользователя на тариф и записывала их в отдельный столбец по месяцам."
      ]
    },
    {
      "cell_type": "code",
      "metadata": {
        "id": "OB426yYQAZzG"
      },
      "source": [
        "def func_prof(row):\n",
        "    cal_p = 0\n",
        "    inter_p = 0\n",
        "    mess_p = 0\n",
        "    \n",
        "    cal = (row['minutes'] - row['minutes_included'])\n",
        "    if cal > 0:\n",
        "        \n",
        "        cal_p = cal*row['rub_per_minute']\n",
        "        return cal_p\n",
        "\n",
        "    inter = (row['mb_used_sum']- row['mb_per_month_included'])\n",
        "    \n",
        "    if inter > 0:\n",
        "        \n",
        "        inter_p = inter*row['rub_per_gb']/1024\n",
        "        return inter_p\n",
        "    \n",
        "    mess =  (row['message_count']-row['messages_included'])\n",
        "    \n",
        "    if inter > 0:\n",
        "        \n",
        "        mess_p = mess*row['rub_per_message']\n",
        "        return mess_p\n",
        "    \n",
        "    mon_fee = row['rub_monthly_fee']\n",
        "    \n",
        "    prof = cal_p+inter_p+mess_p+mon_fee\n",
        "    \n",
        "    return prof\n",
        "        \n",
        "final_data['profit']= final_data.apply(func_prof, axis=1) \n"
      ],
      "execution_count": null,
      "outputs": []
    },
    {
      "cell_type": "markdown",
      "metadata": {
        "id": "SeBW_NDHAZzG"
      },
      "source": [
        "Проверим результат"
      ]
    },
    {
      "cell_type": "code",
      "metadata": {
        "scrolled": false,
        "id": "rd_-CNMfAZzG"
      },
      "source": [
        "final_data.head()"
      ],
      "execution_count": null,
      "outputs": []
    },
    {
      "cell_type": "markdown",
      "metadata": {
        "id": "BHP3xx_tAZzG"
      },
      "source": [
        "Сделаем выгрузку по пользователям для наглядного представления о затратах"
      ]
    },
    {
      "cell_type": "code",
      "metadata": {
        "scrolled": false,
        "id": "sqH6GJL_AZzH"
      },
      "source": [
        "final_data.pivot_table(index=['user_id','first_name','last_name'], values='profit')"
      ],
      "execution_count": null,
      "outputs": []
    },
    {
      "cell_type": "markdown",
      "metadata": {
        "id": "ivYd0VsxAZzH"
      },
      "source": [
        "<a id=\"step_2.end\"></a>\n",
        "### Вывод"
      ]
    },
    {
      "cell_type": "markdown",
      "metadata": {
        "id": "yfixn1DZAZzH"
      },
      "source": [
        "Данные приведены в одну общую сводную таблицу из которой удобно брать интересующие нас выборки, теперь можно перейти к анализу полученных данных и сделать выводы о их распределении"
      ]
    },
    {
      "cell_type": "markdown",
      "metadata": {
        "id": "diVh5flEAZzH"
      },
      "source": [
        "-----"
      ]
    },
    {
      "cell_type": "markdown",
      "metadata": {
        "id": "TTViBh5YAZzI"
      },
      "source": [
        "<a href='#start'>Вернуться к оглавлению</a>\n",
        "<a id=\"step_3.1\"></a>\n",
        "### Глава 3. Проанализируем данные"
      ]
    },
    {
      "cell_type": "markdown",
      "metadata": {
        "id": "pfXLLNmcAZzI"
      },
      "source": [
        "##### Опишем поведение клиентов оператора, исходя из выборки. Сколько минут разговора, сколько сообщений и какой объём интернет-трафика требуется пользователям каждого тарифа в месяц"
      ]
    },
    {
      "cell_type": "markdown",
      "metadata": {
        "id": "zr1ZlTCaAZzI"
      },
      "source": [
        "Сделаем выборку по расходам пользователей и распределим их по месяцам в зависимости от оператора"
      ]
    },
    {
      "cell_type": "code",
      "metadata": {
        "scrolled": false,
        "id": "zl5XV8mmAZzI",
        "outputId": "ff6fafbc-c872-489f-be5c-ba02424eb267"
      },
      "source": [
        "sum_per_mount = final_data.pivot_table(index=['tariff','month'], values=['minutes','message_count','mb_used_sum'], aggfunc='sum').round(0)\n",
        "sum_per_mount.head()"
      ],
      "execution_count": null,
      "outputs": [
        {
          "output_type": "execute_result",
          "data": {
            "text/html": [
              "<div>\n",
              "<style scoped>\n",
              "    .dataframe tbody tr th:only-of-type {\n",
              "        vertical-align: middle;\n",
              "    }\n",
              "\n",
              "    .dataframe tbody tr th {\n",
              "        vertical-align: top;\n",
              "    }\n",
              "\n",
              "    .dataframe thead th {\n",
              "        text-align: right;\n",
              "    }\n",
              "</style>\n",
              "<table border=\"1\" class=\"dataframe\">\n",
              "  <thead>\n",
              "    <tr style=\"text-align: right;\">\n",
              "      <th></th>\n",
              "      <th></th>\n",
              "      <th>mb_used_sum</th>\n",
              "      <th>message_count</th>\n",
              "      <th>minutes</th>\n",
              "    </tr>\n",
              "    <tr>\n",
              "      <th>tariff</th>\n",
              "      <th>month</th>\n",
              "      <th></th>\n",
              "      <th></th>\n",
              "      <th></th>\n",
              "    </tr>\n",
              "  </thead>\n",
              "  <tbody>\n",
              "    <tr>\n",
              "      <td rowspan=\"5\" valign=\"top\">smart</td>\n",
              "      <td>1.0</td>\n",
              "      <td>289482.0</td>\n",
              "      <td>620.0</td>\n",
              "      <td>6579.0</td>\n",
              "    </tr>\n",
              "    <tr>\n",
              "      <td>2.0</td>\n",
              "      <td>672656.0</td>\n",
              "      <td>1397.0</td>\n",
              "      <td>16438.0</td>\n",
              "    </tr>\n",
              "    <tr>\n",
              "      <td>3.0</td>\n",
              "      <td>1163058.0</td>\n",
              "      <td>2453.0</td>\n",
              "      <td>28362.0</td>\n",
              "    </tr>\n",
              "    <tr>\n",
              "      <td>4.0</td>\n",
              "      <td>1507817.0</td>\n",
              "      <td>3443.0</td>\n",
              "      <td>38838.0</td>\n",
              "    </tr>\n",
              "    <tr>\n",
              "      <td>5.0</td>\n",
              "      <td>2228598.0</td>\n",
              "      <td>4762.0</td>\n",
              "      <td>51565.0</td>\n",
              "    </tr>\n",
              "  </tbody>\n",
              "</table>\n",
              "</div>"
            ],
            "text/plain": [
              "              mb_used_sum  message_count  minutes\n",
              "tariff month                                     \n",
              "smart  1.0       289482.0          620.0   6579.0\n",
              "       2.0       672656.0         1397.0  16438.0\n",
              "       3.0      1163058.0         2453.0  28362.0\n",
              "       4.0      1507817.0         3443.0  38838.0\n",
              "       5.0      2228598.0         4762.0  51565.0"
            ]
          },
          "metadata": {
            "tags": []
          },
          "execution_count": 42
        }
      ]
    },
    {
      "cell_type": "markdown",
      "metadata": {
        "id": "2w4CgIJ7AZzJ"
      },
      "source": [
        "Добавим столбец с количеством пользователей в каждую группу по месяцам для подсчёта среднего значения по затратам на одного пользователя в зависимости от тарифа"
      ]
    },
    {
      "cell_type": "code",
      "metadata": {
        "id": "R8RXFt4jAZzJ"
      },
      "source": [
        "count_users=final_data.groupby(['tariff','month'])['user_id'].count()\n",
        "sum_per_mount=sum_per_mount.merge(count_users, on=['tariff','month'], how='left')"
      ],
      "execution_count": null,
      "outputs": []
    },
    {
      "cell_type": "markdown",
      "metadata": {
        "id": "A3qCN56WAZzJ"
      },
      "source": [
        "Переименуем нименования столбцов в зависимости от их содержимого "
      ]
    },
    {
      "cell_type": "code",
      "metadata": {
        "scrolled": false,
        "id": "gDzBSqAkAZzK"
      },
      "source": [
        "sum_per_mount.columns=['mb','message','minutes','users']"
      ],
      "execution_count": null,
      "outputs": []
    },
    {
      "cell_type": "markdown",
      "metadata": {
        "id": "PfMB85oRAZzK"
      },
      "source": [
        "Посмотрим распределение на графике по тарифу \"Smart\""
      ]
    },
    {
      "cell_type": "code",
      "metadata": {
        "scrolled": true,
        "id": "8_YDZeVLAZzK",
        "outputId": "b7911c0e-8780-4e09-eaa9-0b1f0acac87e"
      },
      "source": [
        "smart_tarif = sum_per_mount.reset_index(0).query('tariff == \"smart\"')\n",
        "smart_tarif"
      ],
      "execution_count": null,
      "outputs": [
        {
          "output_type": "execute_result",
          "data": {
            "text/html": [
              "<div>\n",
              "<style scoped>\n",
              "    .dataframe tbody tr th:only-of-type {\n",
              "        vertical-align: middle;\n",
              "    }\n",
              "\n",
              "    .dataframe tbody tr th {\n",
              "        vertical-align: top;\n",
              "    }\n",
              "\n",
              "    .dataframe thead th {\n",
              "        text-align: right;\n",
              "    }\n",
              "</style>\n",
              "<table border=\"1\" class=\"dataframe\">\n",
              "  <thead>\n",
              "    <tr style=\"text-align: right;\">\n",
              "      <th></th>\n",
              "      <th>tariff</th>\n",
              "      <th>mb</th>\n",
              "      <th>message</th>\n",
              "      <th>minutes</th>\n",
              "      <th>users</th>\n",
              "    </tr>\n",
              "    <tr>\n",
              "      <th>month</th>\n",
              "      <th></th>\n",
              "      <th></th>\n",
              "      <th></th>\n",
              "      <th></th>\n",
              "      <th></th>\n",
              "    </tr>\n",
              "  </thead>\n",
              "  <tbody>\n",
              "    <tr>\n",
              "      <td>1.0</td>\n",
              "      <td>smart</td>\n",
              "      <td>289482.0</td>\n",
              "      <td>620.0</td>\n",
              "      <td>6579.0</td>\n",
              "      <td>34</td>\n",
              "    </tr>\n",
              "    <tr>\n",
              "      <td>2.0</td>\n",
              "      <td>smart</td>\n",
              "      <td>672656.0</td>\n",
              "      <td>1397.0</td>\n",
              "      <td>16438.0</td>\n",
              "      <td>58</td>\n",
              "    </tr>\n",
              "    <tr>\n",
              "      <td>3.0</td>\n",
              "      <td>smart</td>\n",
              "      <td>1163058.0</td>\n",
              "      <td>2453.0</td>\n",
              "      <td>28362.0</td>\n",
              "      <td>77</td>\n",
              "    </tr>\n",
              "    <tr>\n",
              "      <td>4.0</td>\n",
              "      <td>smart</td>\n",
              "      <td>1507817.0</td>\n",
              "      <td>3443.0</td>\n",
              "      <td>38838.0</td>\n",
              "      <td>112</td>\n",
              "    </tr>\n",
              "    <tr>\n",
              "      <td>5.0</td>\n",
              "      <td>smart</td>\n",
              "      <td>2228598.0</td>\n",
              "      <td>4762.0</td>\n",
              "      <td>51565.0</td>\n",
              "      <td>141</td>\n",
              "    </tr>\n",
              "    <tr>\n",
              "      <td>6.0</td>\n",
              "      <td>smart</td>\n",
              "      <td>2577962.0</td>\n",
              "      <td>5430.0</td>\n",
              "      <td>61283.0</td>\n",
              "      <td>163</td>\n",
              "    </tr>\n",
              "    <tr>\n",
              "      <td>7.0</td>\n",
              "      <td>smart</td>\n",
              "      <td>3164469.0</td>\n",
              "      <td>6784.0</td>\n",
              "      <td>77587.0</td>\n",
              "      <td>201</td>\n",
              "    </tr>\n",
              "    <tr>\n",
              "      <td>8.0</td>\n",
              "      <td>smart</td>\n",
              "      <td>3892583.0</td>\n",
              "      <td>7888.0</td>\n",
              "      <td>93616.0</td>\n",
              "      <td>234</td>\n",
              "    </tr>\n",
              "    <tr>\n",
              "      <td>9.0</td>\n",
              "      <td>smart</td>\n",
              "      <td>4221858.0</td>\n",
              "      <td>8714.0</td>\n",
              "      <td>105303.0</td>\n",
              "      <td>259</td>\n",
              "    </tr>\n",
              "    <tr>\n",
              "      <td>10.0</td>\n",
              "      <td>smart</td>\n",
              "      <td>4907170.0</td>\n",
              "      <td>9906.0</td>\n",
              "      <td>118412.0</td>\n",
              "      <td>293</td>\n",
              "    </tr>\n",
              "    <tr>\n",
              "      <td>11.0</td>\n",
              "      <td>smart</td>\n",
              "      <td>5321705.0</td>\n",
              "      <td>10748.0</td>\n",
              "      <td>129908.0</td>\n",
              "      <td>315</td>\n",
              "    </tr>\n",
              "    <tr>\n",
              "      <td>12.0</td>\n",
              "      <td>smart</td>\n",
              "      <td>6087145.0</td>\n",
              "      <td>12095.0</td>\n",
              "      <td>152391.0</td>\n",
              "      <td>336</td>\n",
              "    </tr>\n",
              "  </tbody>\n",
              "</table>\n",
              "</div>"
            ],
            "text/plain": [
              "      tariff         mb  message   minutes  users\n",
              "month                                            \n",
              "1.0    smart   289482.0    620.0    6579.0     34\n",
              "2.0    smart   672656.0   1397.0   16438.0     58\n",
              "3.0    smart  1163058.0   2453.0   28362.0     77\n",
              "4.0    smart  1507817.0   3443.0   38838.0    112\n",
              "5.0    smart  2228598.0   4762.0   51565.0    141\n",
              "6.0    smart  2577962.0   5430.0   61283.0    163\n",
              "7.0    smart  3164469.0   6784.0   77587.0    201\n",
              "8.0    smart  3892583.0   7888.0   93616.0    234\n",
              "9.0    smart  4221858.0   8714.0  105303.0    259\n",
              "10.0   smart  4907170.0   9906.0  118412.0    293\n",
              "11.0   smart  5321705.0  10748.0  129908.0    315\n",
              "12.0   smart  6087145.0  12095.0  152391.0    336"
            ]
          },
          "metadata": {
            "tags": []
          },
          "execution_count": 45
        }
      ]
    },
    {
      "cell_type": "code",
      "metadata": {
        "scrolled": true,
        "id": "asToT1ztAZzL",
        "outputId": "e58d9dee-2bce-4016-bc7f-382ea14a19e8"
      },
      "source": [
        "smart_tarif.plot(grid=True,figsize=(5,4),title='Тариф \"Smart\"')\n",
        "plt.show()"
      ],
      "execution_count": null,
      "outputs": [
        {
          "output_type": "display_data",
          "data": {
            "image/png": "[encoded data removed]",
            "text/plain": [
              "<Figure size 360x288 with 1 Axes>"
            ]
          },
          "metadata": {
            "tags": [],
            "needs_background": "light"
          }
        }
      ]
    },
    {
      "cell_type": "markdown",
      "metadata": {
        "id": "dltV1zaFAZzL"
      },
      "source": [
        "Посмотрим распределение на графике по тарифу \"Ultra\""
      ]
    },
    {
      "cell_type": "code",
      "metadata": {
        "id": "QhNiTtHQAZzL",
        "outputId": "b8703ec3-7b19-4329-c93c-81c865a78ef6"
      },
      "source": [
        "ultra_tarif=sum_per_mount.reset_index(0).query('tariff == \"ultra\"')\n",
        "ultra_tarif"
      ],
      "execution_count": null,
      "outputs": [
        {
          "output_type": "execute_result",
          "data": {
            "text/html": [
              "<div>\n",
              "<style scoped>\n",
              "    .dataframe tbody tr th:only-of-type {\n",
              "        vertical-align: middle;\n",
              "    }\n",
              "\n",
              "    .dataframe tbody tr th {\n",
              "        vertical-align: top;\n",
              "    }\n",
              "\n",
              "    .dataframe thead th {\n",
              "        text-align: right;\n",
              "    }\n",
              "</style>\n",
              "<table border=\"1\" class=\"dataframe\">\n",
              "  <thead>\n",
              "    <tr style=\"text-align: right;\">\n",
              "      <th></th>\n",
              "      <th>tariff</th>\n",
              "      <th>mb</th>\n",
              "      <th>message</th>\n",
              "      <th>minutes</th>\n",
              "      <th>users</th>\n",
              "    </tr>\n",
              "    <tr>\n",
              "      <th>month</th>\n",
              "      <th></th>\n",
              "      <th></th>\n",
              "      <th></th>\n",
              "      <th></th>\n",
              "      <th></th>\n",
              "    </tr>\n",
              "  </thead>\n",
              "  <tbody>\n",
              "    <tr>\n",
              "      <td>1.0</td>\n",
              "      <td>ultra</td>\n",
              "      <td>118272.0</td>\n",
              "      <td>304.0</td>\n",
              "      <td>3648.0</td>\n",
              "      <td>9</td>\n",
              "    </tr>\n",
              "    <tr>\n",
              "      <td>2.0</td>\n",
              "      <td>ultra</td>\n",
              "      <td>282632.0</td>\n",
              "      <td>527.0</td>\n",
              "      <td>6747.0</td>\n",
              "      <td>24</td>\n",
              "    </tr>\n",
              "    <tr>\n",
              "      <td>3.0</td>\n",
              "      <td>ultra</td>\n",
              "      <td>648835.0</td>\n",
              "      <td>1195.0</td>\n",
              "      <td>17130.0</td>\n",
              "      <td>37</td>\n",
              "    </tr>\n",
              "    <tr>\n",
              "      <td>4.0</td>\n",
              "      <td>ultra</td>\n",
              "      <td>922119.0</td>\n",
              "      <td>1727.0</td>\n",
              "      <td>23780.0</td>\n",
              "      <td>53</td>\n",
              "    </tr>\n",
              "    <tr>\n",
              "      <td>5.0</td>\n",
              "      <td>ultra</td>\n",
              "      <td>1259229.0</td>\n",
              "      <td>2423.0</td>\n",
              "      <td>32308.0</td>\n",
              "      <td>64</td>\n",
              "    </tr>\n",
              "    <tr>\n",
              "      <td>6.0</td>\n",
              "      <td>ultra</td>\n",
              "      <td>1531655.0</td>\n",
              "      <td>3244.0</td>\n",
              "      <td>38090.0</td>\n",
              "      <td>81</td>\n",
              "    </tr>\n",
              "    <tr>\n",
              "      <td>7.0</td>\n",
              "      <td>ultra</td>\n",
              "      <td>1799382.0</td>\n",
              "      <td>4266.0</td>\n",
              "      <td>46928.0</td>\n",
              "      <td>88</td>\n",
              "    </tr>\n",
              "    <tr>\n",
              "      <td>8.0</td>\n",
              "      <td>ultra</td>\n",
              "      <td>2018018.0</td>\n",
              "      <td>4930.0</td>\n",
              "      <td>51617.0</td>\n",
              "      <td>103</td>\n",
              "    </tr>\n",
              "    <tr>\n",
              "      <td>9.0</td>\n",
              "      <td>ultra</td>\n",
              "      <td>2119536.0</td>\n",
              "      <td>5751.0</td>\n",
              "      <td>58604.0</td>\n",
              "      <td>111</td>\n",
              "    </tr>\n",
              "    <tr>\n",
              "      <td>10.0</td>\n",
              "      <td>ultra</td>\n",
              "      <td>2368834.0</td>\n",
              "      <td>6899.0</td>\n",
              "      <td>64859.0</td>\n",
              "      <td>118</td>\n",
              "    </tr>\n",
              "    <tr>\n",
              "      <td>11.0</td>\n",
              "      <td>ultra</td>\n",
              "      <td>2533713.0</td>\n",
              "      <td>7224.0</td>\n",
              "      <td>68522.0</td>\n",
              "      <td>129</td>\n",
              "    </tr>\n",
              "    <tr>\n",
              "      <td>12.0</td>\n",
              "      <td>ultra</td>\n",
              "      <td>2907053.0</td>\n",
              "      <td>8141.0</td>\n",
              "      <td>77851.0</td>\n",
              "      <td>134</td>\n",
              "    </tr>\n",
              "  </tbody>\n",
              "</table>\n",
              "</div>"
            ],
            "text/plain": [
              "      tariff         mb  message  minutes  users\n",
              "month                                           \n",
              "1.0    ultra   118272.0    304.0   3648.0      9\n",
              "2.0    ultra   282632.0    527.0   6747.0     24\n",
              "3.0    ultra   648835.0   1195.0  17130.0     37\n",
              "4.0    ultra   922119.0   1727.0  23780.0     53\n",
              "5.0    ultra  1259229.0   2423.0  32308.0     64\n",
              "6.0    ultra  1531655.0   3244.0  38090.0     81\n",
              "7.0    ultra  1799382.0   4266.0  46928.0     88\n",
              "8.0    ultra  2018018.0   4930.0  51617.0    103\n",
              "9.0    ultra  2119536.0   5751.0  58604.0    111\n",
              "10.0   ultra  2368834.0   6899.0  64859.0    118\n",
              "11.0   ultra  2533713.0   7224.0  68522.0    129\n",
              "12.0   ultra  2907053.0   8141.0  77851.0    134"
            ]
          },
          "metadata": {
            "tags": []
          },
          "execution_count": 47
        }
      ]
    },
    {
      "cell_type": "code",
      "metadata": {
        "scrolled": true,
        "id": "cDwtWX-8AZzM",
        "outputId": "b0d2b260-c4d1-4b17-8e86-1cca9fe45288"
      },
      "source": [
        "ultra_tarif.plot(grid=True,figsize=(5,4),title='Тариф \"Ультра\"')\n",
        "plt.show()"
      ],
      "execution_count": null,
      "outputs": [
        {
          "output_type": "display_data",
          "data": {
            "image/png": "[encoded data removed]",
            "text/plain": [
              "<Figure size 360x288 with 1 Axes>"
            ]
          },
          "metadata": {
            "tags": [],
            "needs_background": "light"
          }
        }
      ]
    },
    {
      "cell_type": "markdown",
      "metadata": {
        "id": "QqX9_32OAZzM"
      },
      "source": [
        "Для сравнения распределения даных объеденим их на одном графике"
      ]
    },
    {
      "cell_type": "code",
      "metadata": {
        "scrolled": false,
        "id": "2mEXHpRRAZzM",
        "outputId": "3a6a1462-0893-4646-ed0c-c4fd34fe4f72"
      },
      "source": [
        "ultra_tarif.join(smart_tarif,lsuffix='_ultra', rsuffix='_smart').plot(grid=True,figsize=(15,6),title='Тарифы \"Ультра\" и \"Смарт\"', linewidth=2)\n",
        "plt.show()"
      ],
      "execution_count": null,
      "outputs": [
        {
          "output_type": "display_data",
          "data": {
            "image/png": "[encoded data removed]",
            "text/plain": [
              "<Figure size 1080x432 with 1 Axes>"
            ]
          },
          "metadata": {
            "tags": [],
            "needs_background": "light"
          }
        }
      ]
    },
    {
      "cell_type": "markdown",
      "metadata": {
        "id": "9FjBYei3AZzN"
      },
      "source": [
        "    Вывод. Из наших распределений видно, что несмотря на то, что ежемесячное количество пользователей растёт, расход интернет-трафика у пользователе обоих тарифов растёт намного быстрее, чем смс и звонки."
      ]
    },
    {
      "cell_type": "markdown",
      "metadata": {
        "id": "Q_QVEHVjAZzN"
      },
      "source": [
        "####  Посчитаем среднее количество, дисперсию и стандартное отклонение <a id=\"step_3.2\"></a>"
      ]
    },
    {
      "cell_type": "markdown",
      "metadata": {
        "id": "yNrDrsYwAZzO"
      },
      "source": [
        "##### Начнём подсчёт со среднего количества <a id=\"step_3.3\"></a>"
      ]
    },
    {
      "cell_type": "code",
      "metadata": {
        "scrolled": false,
        "id": "c8MzFG9IAZzO",
        "outputId": "e4eed878-6e6b-42b3-dc8e-46854f6edb55"
      },
      "source": [
        "count_per_mount = final_data.pivot_table(index=['tariff','month'], values=['minutes','message_count','mb_used_sum', 'profit'], aggfunc='sum').round(0)\n",
        "count_per_mount.head()"
      ],
      "execution_count": null,
      "outputs": [
        {
          "output_type": "execute_result",
          "data": {
            "text/html": [
              "<div>\n",
              "<style scoped>\n",
              "    .dataframe tbody tr th:only-of-type {\n",
              "        vertical-align: middle;\n",
              "    }\n",
              "\n",
              "    .dataframe tbody tr th {\n",
              "        vertical-align: top;\n",
              "    }\n",
              "\n",
              "    .dataframe thead th {\n",
              "        text-align: right;\n",
              "    }\n",
              "</style>\n",
              "<table border=\"1\" class=\"dataframe\">\n",
              "  <thead>\n",
              "    <tr style=\"text-align: right;\">\n",
              "      <th></th>\n",
              "      <th></th>\n",
              "      <th>mb_used_sum</th>\n",
              "      <th>message_count</th>\n",
              "      <th>minutes</th>\n",
              "      <th>profit</th>\n",
              "    </tr>\n",
              "    <tr>\n",
              "      <th>tariff</th>\n",
              "      <th>month</th>\n",
              "      <th></th>\n",
              "      <th></th>\n",
              "      <th></th>\n",
              "      <th></th>\n",
              "    </tr>\n",
              "  </thead>\n",
              "  <tbody>\n",
              "    <tr>\n",
              "      <td rowspan=\"5\" valign=\"top\">smart</td>\n",
              "      <td>1.0</td>\n",
              "      <td>289482.0</td>\n",
              "      <td>620.0</td>\n",
              "      <td>6579.0</td>\n",
              "      <td>19529.0</td>\n",
              "    </tr>\n",
              "    <tr>\n",
              "      <td>2.0</td>\n",
              "      <td>672656.0</td>\n",
              "      <td>1397.0</td>\n",
              "      <td>16438.0</td>\n",
              "      <td>29599.0</td>\n",
              "    </tr>\n",
              "    <tr>\n",
              "      <td>3.0</td>\n",
              "      <td>1163058.0</td>\n",
              "      <td>2453.0</td>\n",
              "      <td>28362.0</td>\n",
              "      <td>44087.0</td>\n",
              "    </tr>\n",
              "    <tr>\n",
              "      <td>4.0</td>\n",
              "      <td>1507817.0</td>\n",
              "      <td>3443.0</td>\n",
              "      <td>38838.0</td>\n",
              "      <td>61298.0</td>\n",
              "    </tr>\n",
              "    <tr>\n",
              "      <td>5.0</td>\n",
              "      <td>2228598.0</td>\n",
              "      <td>4762.0</td>\n",
              "      <td>51565.0</td>\n",
              "      <td>88324.0</td>\n",
              "    </tr>\n",
              "  </tbody>\n",
              "</table>\n",
              "</div>"
            ],
            "text/plain": [
              "              mb_used_sum  message_count  minutes   profit\n",
              "tariff month                                              \n",
              "smart  1.0       289482.0          620.0   6579.0  19529.0\n",
              "       2.0       672656.0         1397.0  16438.0  29599.0\n",
              "       3.0      1163058.0         2453.0  28362.0  44087.0\n",
              "       4.0      1507817.0         3443.0  38838.0  61298.0\n",
              "       5.0      2228598.0         4762.0  51565.0  88324.0"
            ]
          },
          "metadata": {
            "tags": []
          },
          "execution_count": 50
        }
      ]
    },
    {
      "cell_type": "markdown",
      "metadata": {
        "id": "2RWj706xAZzP"
      },
      "source": [
        "Добавим столбец с подсчётом количества пользователей в отдельном месяце в нашу таблицу"
      ]
    },
    {
      "cell_type": "code",
      "metadata": {
        "scrolled": false,
        "id": "5FiFHdZRAZzP"
      },
      "source": [
        "b=final_data.groupby(['tariff','month'])['user_id'].count()\n",
        "count_per_mount=count_per_mount.merge(b, on=['tariff','month'], how='left').reset_index()"
      ],
      "execution_count": null,
      "outputs": []
    },
    {
      "cell_type": "markdown",
      "metadata": {
        "id": "ITfy-HNrAZzP"
      },
      "source": [
        "Проверим результат"
      ]
    },
    {
      "cell_type": "code",
      "metadata": {
        "scrolled": false,
        "id": "3ANnRE8hAZzQ",
        "outputId": "2381871e-59a1-4f85-c97e-e884fc16f99a"
      },
      "source": [
        "count_per_mount.head()"
      ],
      "execution_count": null,
      "outputs": [
        {
          "output_type": "execute_result",
          "data": {
            "text/html": [
              "<div>\n",
              "<style scoped>\n",
              "    .dataframe tbody tr th:only-of-type {\n",
              "        vertical-align: middle;\n",
              "    }\n",
              "\n",
              "    .dataframe tbody tr th {\n",
              "        vertical-align: top;\n",
              "    }\n",
              "\n",
              "    .dataframe thead th {\n",
              "        text-align: right;\n",
              "    }\n",
              "</style>\n",
              "<table border=\"1\" class=\"dataframe\">\n",
              "  <thead>\n",
              "    <tr style=\"text-align: right;\">\n",
              "      <th></th>\n",
              "      <th>tariff</th>\n",
              "      <th>month</th>\n",
              "      <th>mb_used_sum</th>\n",
              "      <th>message_count</th>\n",
              "      <th>minutes</th>\n",
              "      <th>profit</th>\n",
              "      <th>user_id</th>\n",
              "    </tr>\n",
              "  </thead>\n",
              "  <tbody>\n",
              "    <tr>\n",
              "      <td>0</td>\n",
              "      <td>smart</td>\n",
              "      <td>1.0</td>\n",
              "      <td>289482.0</td>\n",
              "      <td>620.0</td>\n",
              "      <td>6579.0</td>\n",
              "      <td>19529.0</td>\n",
              "      <td>34</td>\n",
              "    </tr>\n",
              "    <tr>\n",
              "      <td>1</td>\n",
              "      <td>smart</td>\n",
              "      <td>2.0</td>\n",
              "      <td>672656.0</td>\n",
              "      <td>1397.0</td>\n",
              "      <td>16438.0</td>\n",
              "      <td>29599.0</td>\n",
              "      <td>58</td>\n",
              "    </tr>\n",
              "    <tr>\n",
              "      <td>2</td>\n",
              "      <td>smart</td>\n",
              "      <td>3.0</td>\n",
              "      <td>1163058.0</td>\n",
              "      <td>2453.0</td>\n",
              "      <td>28362.0</td>\n",
              "      <td>44087.0</td>\n",
              "      <td>77</td>\n",
              "    </tr>\n",
              "    <tr>\n",
              "      <td>3</td>\n",
              "      <td>smart</td>\n",
              "      <td>4.0</td>\n",
              "      <td>1507817.0</td>\n",
              "      <td>3443.0</td>\n",
              "      <td>38838.0</td>\n",
              "      <td>61298.0</td>\n",
              "      <td>112</td>\n",
              "    </tr>\n",
              "    <tr>\n",
              "      <td>4</td>\n",
              "      <td>smart</td>\n",
              "      <td>5.0</td>\n",
              "      <td>2228598.0</td>\n",
              "      <td>4762.0</td>\n",
              "      <td>51565.0</td>\n",
              "      <td>88324.0</td>\n",
              "      <td>141</td>\n",
              "    </tr>\n",
              "  </tbody>\n",
              "</table>\n",
              "</div>"
            ],
            "text/plain": [
              "  tariff  month  mb_used_sum  message_count  minutes   profit  user_id\n",
              "0  smart    1.0     289482.0          620.0   6579.0  19529.0       34\n",
              "1  smart    2.0     672656.0         1397.0  16438.0  29599.0       58\n",
              "2  smart    3.0    1163058.0         2453.0  28362.0  44087.0       77\n",
              "3  smart    4.0    1507817.0         3443.0  38838.0  61298.0      112\n",
              "4  smart    5.0    2228598.0         4762.0  51565.0  88324.0      141"
            ]
          },
          "metadata": {
            "tags": []
          },
          "execution_count": 52
        }
      ]
    },
    {
      "cell_type": "markdown",
      "metadata": {
        "id": "2Wj1X7f3AZzQ"
      },
      "source": [
        "Для каждого параметра вычислим расход трафика, смс и минут каждым пользователем в зависимости от месяца"
      ]
    },
    {
      "cell_type": "code",
      "metadata": {
        "id": "gUwnC-USAZzQ"
      },
      "source": [
        "users_vales=count_per_mount['user_id']\n",
        "\n",
        "count_per_mount['mb_used_sum'] = (count_per_mount['mb_used_sum']/users_vales).round()\n",
        "count_per_mount['message_count'] = (count_per_mount['message_count']/users_vales).round()\n",
        "count_per_mount['minutes'] = (count_per_mount['minutes'] /users_vales).round()\n",
        "count_per_mount['profit'] = (count_per_mount['profit'] /users_vales).round()"
      ],
      "execution_count": null,
      "outputs": []
    },
    {
      "cell_type": "markdown",
      "metadata": {
        "id": "UzyKGRinAZzR"
      },
      "source": [
        "Заполним нименования столбцов в зависимости от их нового содержания"
      ]
    },
    {
      "cell_type": "code",
      "metadata": {
        "scrolled": false,
        "id": "2fotTv-IAZzR",
        "outputId": "39c82143-73a4-4173-cabc-c99abf4f57c9"
      },
      "source": [
        "count_per_mount.columns=['tariff', 'month', 'mb_per_user', 'message_per_user', 'minutes_per_user','profit_per_user', 'user_value']\n",
        "count_per_mount"
      ],
      "execution_count": null,
      "outputs": [
        {
          "output_type": "execute_result",
          "data": {
            "text/html": [
              "<div>\n",
              "<style scoped>\n",
              "    .dataframe tbody tr th:only-of-type {\n",
              "        vertical-align: middle;\n",
              "    }\n",
              "\n",
              "    .dataframe tbody tr th {\n",
              "        vertical-align: top;\n",
              "    }\n",
              "\n",
              "    .dataframe thead th {\n",
              "        text-align: right;\n",
              "    }\n",
              "</style>\n",
              "<table border=\"1\" class=\"dataframe\">\n",
              "  <thead>\n",
              "    <tr style=\"text-align: right;\">\n",
              "      <th></th>\n",
              "      <th>tariff</th>\n",
              "      <th>month</th>\n",
              "      <th>mb_per_user</th>\n",
              "      <th>message_per_user</th>\n",
              "      <th>minutes_per_user</th>\n",
              "      <th>profit_per_user</th>\n",
              "      <th>user_value</th>\n",
              "    </tr>\n",
              "  </thead>\n",
              "  <tbody>\n",
              "    <tr>\n",
              "      <td>0</td>\n",
              "      <td>smart</td>\n",
              "      <td>1.0</td>\n",
              "      <td>8514.0</td>\n",
              "      <td>18.0</td>\n",
              "      <td>194.0</td>\n",
              "      <td>574.0</td>\n",
              "      <td>34</td>\n",
              "    </tr>\n",
              "    <tr>\n",
              "      <td>1</td>\n",
              "      <td>smart</td>\n",
              "      <td>2.0</td>\n",
              "      <td>11598.0</td>\n",
              "      <td>24.0</td>\n",
              "      <td>283.0</td>\n",
              "      <td>510.0</td>\n",
              "      <td>58</td>\n",
              "    </tr>\n",
              "    <tr>\n",
              "      <td>2</td>\n",
              "      <td>smart</td>\n",
              "      <td>3.0</td>\n",
              "      <td>15105.0</td>\n",
              "      <td>32.0</td>\n",
              "      <td>368.0</td>\n",
              "      <td>573.0</td>\n",
              "      <td>77</td>\n",
              "    </tr>\n",
              "    <tr>\n",
              "      <td>3</td>\n",
              "      <td>smart</td>\n",
              "      <td>4.0</td>\n",
              "      <td>13463.0</td>\n",
              "      <td>31.0</td>\n",
              "      <td>347.0</td>\n",
              "      <td>547.0</td>\n",
              "      <td>112</td>\n",
              "    </tr>\n",
              "    <tr>\n",
              "      <td>4</td>\n",
              "      <td>smart</td>\n",
              "      <td>5.0</td>\n",
              "      <td>15806.0</td>\n",
              "      <td>34.0</td>\n",
              "      <td>366.0</td>\n",
              "      <td>626.0</td>\n",
              "      <td>141</td>\n",
              "    </tr>\n",
              "    <tr>\n",
              "      <td>5</td>\n",
              "      <td>smart</td>\n",
              "      <td>6.0</td>\n",
              "      <td>15816.0</td>\n",
              "      <td>33.0</td>\n",
              "      <td>376.0</td>\n",
              "      <td>591.0</td>\n",
              "      <td>163</td>\n",
              "    </tr>\n",
              "    <tr>\n",
              "      <td>6</td>\n",
              "      <td>smart</td>\n",
              "      <td>7.0</td>\n",
              "      <td>15744.0</td>\n",
              "      <td>34.0</td>\n",
              "      <td>386.0</td>\n",
              "      <td>625.0</td>\n",
              "      <td>201</td>\n",
              "    </tr>\n",
              "    <tr>\n",
              "      <td>7</td>\n",
              "      <td>smart</td>\n",
              "      <td>8.0</td>\n",
              "      <td>16635.0</td>\n",
              "      <td>34.0</td>\n",
              "      <td>400.0</td>\n",
              "      <td>657.0</td>\n",
              "      <td>234</td>\n",
              "    </tr>\n",
              "    <tr>\n",
              "      <td>8</td>\n",
              "      <td>smart</td>\n",
              "      <td>9.0</td>\n",
              "      <td>16301.0</td>\n",
              "      <td>34.0</td>\n",
              "      <td>407.0</td>\n",
              "      <td>612.0</td>\n",
              "      <td>259</td>\n",
              "    </tr>\n",
              "    <tr>\n",
              "      <td>9</td>\n",
              "      <td>smart</td>\n",
              "      <td>10.0</td>\n",
              "      <td>16748.0</td>\n",
              "      <td>34.0</td>\n",
              "      <td>404.0</td>\n",
              "      <td>655.0</td>\n",
              "      <td>293</td>\n",
              "    </tr>\n",
              "    <tr>\n",
              "      <td>10</td>\n",
              "      <td>smart</td>\n",
              "      <td>11.0</td>\n",
              "      <td>16894.0</td>\n",
              "      <td>34.0</td>\n",
              "      <td>412.0</td>\n",
              "      <td>644.0</td>\n",
              "      <td>315</td>\n",
              "    </tr>\n",
              "    <tr>\n",
              "      <td>11</td>\n",
              "      <td>smart</td>\n",
              "      <td>12.0</td>\n",
              "      <td>18117.0</td>\n",
              "      <td>36.0</td>\n",
              "      <td>454.0</td>\n",
              "      <td>648.0</td>\n",
              "      <td>336</td>\n",
              "    </tr>\n",
              "    <tr>\n",
              "      <td>12</td>\n",
              "      <td>ultra</td>\n",
              "      <td>1.0</td>\n",
              "      <td>13141.0</td>\n",
              "      <td>34.0</td>\n",
              "      <td>405.0</td>\n",
              "      <td>1950.0</td>\n",
              "      <td>9</td>\n",
              "    </tr>\n",
              "    <tr>\n",
              "      <td>13</td>\n",
              "      <td>ultra</td>\n",
              "      <td>2.0</td>\n",
              "      <td>11776.0</td>\n",
              "      <td>22.0</td>\n",
              "      <td>281.0</td>\n",
              "      <td>1810.0</td>\n",
              "      <td>24</td>\n",
              "    </tr>\n",
              "    <tr>\n",
              "      <td>14</td>\n",
              "      <td>ultra</td>\n",
              "      <td>3.0</td>\n",
              "      <td>17536.0</td>\n",
              "      <td>32.0</td>\n",
              "      <td>463.0</td>\n",
              "      <td>1740.0</td>\n",
              "      <td>37</td>\n",
              "    </tr>\n",
              "    <tr>\n",
              "      <td>15</td>\n",
              "      <td>ultra</td>\n",
              "      <td>4.0</td>\n",
              "      <td>17398.0</td>\n",
              "      <td>33.0</td>\n",
              "      <td>449.0</td>\n",
              "      <td>1813.0</td>\n",
              "      <td>53</td>\n",
              "    </tr>\n",
              "    <tr>\n",
              "      <td>16</td>\n",
              "      <td>ultra</td>\n",
              "      <td>5.0</td>\n",
              "      <td>19675.0</td>\n",
              "      <td>38.0</td>\n",
              "      <td>505.0</td>\n",
              "      <td>1877.0</td>\n",
              "      <td>64</td>\n",
              "    </tr>\n",
              "    <tr>\n",
              "      <td>17</td>\n",
              "      <td>ultra</td>\n",
              "      <td>6.0</td>\n",
              "      <td>18909.0</td>\n",
              "      <td>40.0</td>\n",
              "      <td>470.0</td>\n",
              "      <td>1818.0</td>\n",
              "      <td>81</td>\n",
              "    </tr>\n",
              "    <tr>\n",
              "      <td>18</td>\n",
              "      <td>ultra</td>\n",
              "      <td>7.0</td>\n",
              "      <td>20448.0</td>\n",
              "      <td>48.0</td>\n",
              "      <td>533.0</td>\n",
              "      <td>1803.0</td>\n",
              "      <td>88</td>\n",
              "    </tr>\n",
              "    <tr>\n",
              "      <td>19</td>\n",
              "      <td>ultra</td>\n",
              "      <td>8.0</td>\n",
              "      <td>19592.0</td>\n",
              "      <td>48.0</td>\n",
              "      <td>501.0</td>\n",
              "      <td>1770.0</td>\n",
              "      <td>103</td>\n",
              "    </tr>\n",
              "    <tr>\n",
              "      <td>20</td>\n",
              "      <td>ultra</td>\n",
              "      <td>9.0</td>\n",
              "      <td>19095.0</td>\n",
              "      <td>52.0</td>\n",
              "      <td>528.0</td>\n",
              "      <td>1784.0</td>\n",
              "      <td>111</td>\n",
              "    </tr>\n",
              "    <tr>\n",
              "      <td>21</td>\n",
              "      <td>ultra</td>\n",
              "      <td>10.0</td>\n",
              "      <td>20075.0</td>\n",
              "      <td>58.0</td>\n",
              "      <td>550.0</td>\n",
              "      <td>1796.0</td>\n",
              "      <td>118</td>\n",
              "    </tr>\n",
              "    <tr>\n",
              "      <td>22</td>\n",
              "      <td>ultra</td>\n",
              "      <td>11.0</td>\n",
              "      <td>19641.0</td>\n",
              "      <td>56.0</td>\n",
              "      <td>531.0</td>\n",
              "      <td>1777.0</td>\n",
              "      <td>129</td>\n",
              "    </tr>\n",
              "    <tr>\n",
              "      <td>23</td>\n",
              "      <td>ultra</td>\n",
              "      <td>12.0</td>\n",
              "      <td>21694.0</td>\n",
              "      <td>61.0</td>\n",
              "      <td>581.0</td>\n",
              "      <td>1800.0</td>\n",
              "      <td>134</td>\n",
              "    </tr>\n",
              "  </tbody>\n",
              "</table>\n",
              "</div>"
            ],
            "text/plain": [
              "   tariff  month  mb_per_user  message_per_user  minutes_per_user  \\\n",
              "0   smart    1.0       8514.0              18.0             194.0   \n",
              "1   smart    2.0      11598.0              24.0             283.0   \n",
              "2   smart    3.0      15105.0              32.0             368.0   \n",
              "3   smart    4.0      13463.0              31.0             347.0   \n",
              "4   smart    5.0      15806.0              34.0             366.0   \n",
              "5   smart    6.0      15816.0              33.0             376.0   \n",
              "6   smart    7.0      15744.0              34.0             386.0   \n",
              "7   smart    8.0      16635.0              34.0             400.0   \n",
              "8   smart    9.0      16301.0              34.0             407.0   \n",
              "9   smart   10.0      16748.0              34.0             404.0   \n",
              "10  smart   11.0      16894.0              34.0             412.0   \n",
              "11  smart   12.0      18117.0              36.0             454.0   \n",
              "12  ultra    1.0      13141.0              34.0             405.0   \n",
              "13  ultra    2.0      11776.0              22.0             281.0   \n",
              "14  ultra    3.0      17536.0              32.0             463.0   \n",
              "15  ultra    4.0      17398.0              33.0             449.0   \n",
              "16  ultra    5.0      19675.0              38.0             505.0   \n",
              "17  ultra    6.0      18909.0              40.0             470.0   \n",
              "18  ultra    7.0      20448.0              48.0             533.0   \n",
              "19  ultra    8.0      19592.0              48.0             501.0   \n",
              "20  ultra    9.0      19095.0              52.0             528.0   \n",
              "21  ultra   10.0      20075.0              58.0             550.0   \n",
              "22  ultra   11.0      19641.0              56.0             531.0   \n",
              "23  ultra   12.0      21694.0              61.0             581.0   \n",
              "\n",
              "    profit_per_user  user_value  \n",
              "0             574.0          34  \n",
              "1             510.0          58  \n",
              "2             573.0          77  \n",
              "3             547.0         112  \n",
              "4             626.0         141  \n",
              "5             591.0         163  \n",
              "6             625.0         201  \n",
              "7             657.0         234  \n",
              "8             612.0         259  \n",
              "9             655.0         293  \n",
              "10            644.0         315  \n",
              "11            648.0         336  \n",
              "12           1950.0           9  \n",
              "13           1810.0          24  \n",
              "14           1740.0          37  \n",
              "15           1813.0          53  \n",
              "16           1877.0          64  \n",
              "17           1818.0          81  \n",
              "18           1803.0          88  \n",
              "19           1770.0         103  \n",
              "20           1784.0         111  \n",
              "21           1796.0         118  \n",
              "22           1777.0         129  \n",
              "23           1800.0         134  "
            ]
          },
          "metadata": {
            "tags": []
          },
          "execution_count": 54
        }
      ]
    },
    {
      "cell_type": "markdown",
      "metadata": {
        "id": "h5YQ6pyVAZzR"
      },
      "source": [
        "Вычислим среднее количество использования данных двух тарифов каждым пользователем и усреднённые затраты на связь за 2018 год"
      ]
    },
    {
      "cell_type": "markdown",
      "metadata": {
        "id": "Znc2R2B_AZzR"
      },
      "source": [
        "Для удобства данные отобразим в сводной таблице"
      ]
    },
    {
      "cell_type": "code",
      "metadata": {
        "scrolled": false,
        "id": "TJvuOBztAZzS",
        "outputId": "cf312f1f-ffdc-4253-ef29-7253d667d48c"
      },
      "source": [
        "count_per_mount.pivot_table(index='tariff', values=['mb_per_user','message_per_user','minutes_per_user','profit_per_user'], aggfunc='mean')"
      ],
      "execution_count": null,
      "outputs": [
        {
          "output_type": "execute_result",
          "data": {
            "text/html": [
              "<div>\n",
              "<style scoped>\n",
              "    .dataframe tbody tr th:only-of-type {\n",
              "        vertical-align: middle;\n",
              "    }\n",
              "\n",
              "    .dataframe tbody tr th {\n",
              "        vertical-align: top;\n",
              "    }\n",
              "\n",
              "    .dataframe thead th {\n",
              "        text-align: right;\n",
              "    }\n",
              "</style>\n",
              "<table border=\"1\" class=\"dataframe\">\n",
              "  <thead>\n",
              "    <tr style=\"text-align: right;\">\n",
              "      <th></th>\n",
              "      <th>mb_per_user</th>\n",
              "      <th>message_per_user</th>\n",
              "      <th>minutes_per_user</th>\n",
              "      <th>profit_per_user</th>\n",
              "    </tr>\n",
              "    <tr>\n",
              "      <th>tariff</th>\n",
              "      <th></th>\n",
              "      <th></th>\n",
              "      <th></th>\n",
              "      <th></th>\n",
              "    </tr>\n",
              "  </thead>\n",
              "  <tbody>\n",
              "    <tr>\n",
              "      <td>smart</td>\n",
              "      <td>15061.750000</td>\n",
              "      <td>31.5</td>\n",
              "      <td>366.416667</td>\n",
              "      <td>605.166667</td>\n",
              "    </tr>\n",
              "    <tr>\n",
              "      <td>ultra</td>\n",
              "      <td>18248.333333</td>\n",
              "      <td>43.5</td>\n",
              "      <td>483.083333</td>\n",
              "      <td>1811.500000</td>\n",
              "    </tr>\n",
              "  </tbody>\n",
              "</table>\n",
              "</div>"
            ],
            "text/plain": [
              "         mb_per_user  message_per_user  minutes_per_user  profit_per_user\n",
              "tariff                                                                   \n",
              "smart   15061.750000              31.5        366.416667       605.166667\n",
              "ultra   18248.333333              43.5        483.083333      1811.500000"
            ]
          },
          "metadata": {
            "tags": []
          },
          "execution_count": 55
        }
      ]
    },
    {
      "cell_type": "markdown",
      "metadata": {
        "id": "iqCMaYa9AZzS"
      },
      "source": [
        "    Вывод. Таким образом исходя из среднего распределения мы видим, что затраты на связь абонентами \"Ultra\" выше чем у абонентов использующих тарифный план \"Smart\" при приблизительно том же объёме использовании ресурсов связи"
      ]
    },
    {
      "cell_type": "markdown",
      "metadata": {
        "id": "hWtPqKStAZzS"
      },
      "source": [
        "##### Посчитаем дисперсию <a id=\"step_3.4\"></a>"
      ]
    },
    {
      "cell_type": "markdown",
      "metadata": {
        "id": "F_m76sTYAZzS"
      },
      "source": [
        "Тариф \"Smart\""
      ]
    },
    {
      "cell_type": "code",
      "metadata": {
        "scrolled": true,
        "id": "SEltFmTaAZzT",
        "outputId": "aafd9043-1b01-4428-f737-d5200ed68be5"
      },
      "source": [
        "count_per_mount_s = count_per_mount.query('tariff == \"smart\"')\n",
        "\n",
        "s_disp_mb=np.var(count_per_mount_s['mb_per_user'])\n",
        "s_disp_ms=np.var(count_per_mount_s['message_per_user'])\n",
        "s_disp_min=np.var(count_per_mount_s['minutes_per_user'])\n",
        "s_disp_prof=np.var(count_per_mount_s['profit_per_user'])\n",
        "\n",
        "print('Дисперсия израсходованного интернет трафика равна', s_disp_mb)\n",
        "print( 'Дисперсия израсходованных сообщений равна', s_disp_ms)\n",
        "print('Дисперсия израсходованных минут равна', s_disp_min)\n",
        "print('Дисперсия затраченных средств на связь равна', s_disp_prof)"
      ],
      "execution_count": null,
      "outputs": [
        {
          "output_type": "stream",
          "text": [
            "Дисперсия израсходованного интернет трафика равна 6546893.354166667\n",
            "Дисперсия израсходованных сообщений равна 24.916666666666668\n",
            "Дисперсия израсходованных минут равна 4289.743055555556\n",
            "Дисперсия затраченных средств на связь равна 2002.8055555555557\n"
          ],
          "name": "stdout"
        }
      ]
    },
    {
      "cell_type": "markdown",
      "metadata": {
        "id": "hqi2IYvjAZzT"
      },
      "source": [
        "Тариф \"Ultra\""
      ]
    },
    {
      "cell_type": "code",
      "metadata": {
        "id": "7N_Dt7UtAZzT",
        "outputId": "a4d2fa3d-9aff-4dd4-bebe-9833c4dac546"
      },
      "source": [
        "count_per_mount_u = count_per_mount.query('tariff == \"ultra\"')\n",
        "\n",
        "u_disp_mb=np.var(count_per_mount_u['mb_per_user'])\n",
        "u_disp_ms=np.var(count_per_mount_u['message_per_user'])\n",
        "u_disp_min=np.var(count_per_mount_u['minutes_per_user'])\n",
        "u_disp_prof=np.var(count_per_mount_u['profit_per_user'])\n",
        "\n",
        "print('Дисперсия израсходованного интернет трафика равна',u_disp_mb)\n",
        "print( 'Дисперсия израсходованных сообщений равна',u_disp_ms)\n",
        "print('Дисперсия израсходованных минут равна',u_disp_min)\n",
        "print('Дисперсия затраченных средств на связь равна', u_disp_prof)"
      ],
      "execution_count": null,
      "outputs": [
        {
          "output_type": "stream",
          "text": [
            "Дисперсия израсходованного интернет трафика равна 8015663.722222223\n",
            "Дисперсия израсходованных сообщений равна 135.25\n",
            "Дисперсия израсходованных минут равна 5861.909722222223\n",
            "Дисперсия затраченных средств на связь равна 2728.75\n"
          ],
          "name": "stdout"
        }
      ]
    },
    {
      "cell_type": "markdown",
      "metadata": {
        "id": "Eg0P7gA1AZzU"
      },
      "source": [
        "##### Стандартное отклонение <a id=\"step_3.5\"></a>"
      ]
    },
    {
      "cell_type": "markdown",
      "metadata": {
        "id": "wbKGVAioAZzU"
      },
      "source": [
        "Тариф \"Smart\""
      ]
    },
    {
      "cell_type": "code",
      "metadata": {
        "scrolled": true,
        "id": "6OWqQIrrAZzU",
        "outputId": "489ccf79-56d6-4d5a-b58b-a852352f405f"
      },
      "source": [
        "s_std_mb=np.std(count_per_mount_s['mb_per_user'], ddof=1)\n",
        "s_std_ms=np.std(count_per_mount_s['message_per_user'], ddof=1)\n",
        "s_std_min=np.std(count_per_mount_s['minutes_per_user'], ddof=1)\n",
        "s_std_prof=np.std(count_per_mount_s['profit_per_user'], ddof=1)\n",
        "\n",
        "print('Стандартное отклонение израсходованного трафика равно',s_std_mb)\n",
        "print('Стандартное отклонение израсходованных сообщений равно',s_std_ms)\n",
        "print('Стандартное отклонение израсходованных минут равно',s_std_min)\n",
        "print('Стандартное отклонение затраченных средств на связь равно',s_std_prof)"
      ],
      "execution_count": null,
      "outputs": [
        {
          "output_type": "stream",
          "text": [
            "Стандартное отклонение израсходованного трафика равно 2672.464307951133\n",
            "Стандартное отклонение израсходованных сообщений равно 5.213618530523516\n",
            "Стандартное отклонение израсходованных минут равно 68.4084767917668\n",
            "Стандартное отклонение затраченных средств на связь равно 46.742686998917684\n"
          ],
          "name": "stdout"
        }
      ]
    },
    {
      "cell_type": "markdown",
      "metadata": {
        "id": "UW1x-I8wAZzU"
      },
      "source": [
        "Для полноты понимания о распределении значений затрат на связь по тарифу \"Smart\" вычислим распределение 3-сигм"
      ]
    },
    {
      "cell_type": "code",
      "metadata": {
        "id": "qe8usqggAZzV",
        "outputId": "7f1470e0-5c71-43cb-d84a-153713cf6272"
      },
      "source": [
        "mu_s=count_per_mount_s['profit_per_user'].mean()\n",
        "IIIG_profit_s = (s_std_prof*3)+mu_s\n",
        "IIIG_profit_s"
      ],
      "execution_count": null,
      "outputs": [
        {
          "output_type": "execute_result",
          "data": {
            "text/plain": [
              "745.3947276634196"
            ]
          },
          "metadata": {
            "tags": []
          },
          "execution_count": 59
        }
      ]
    },
    {
      "cell_type": "markdown",
      "metadata": {
        "id": "lGzysuNsAZzV"
      },
      "source": [
        "#### Вычислим какова вероятность попасть между значений средних затрат на связь при использовании тарифа \"Smart\""
      ]
    },
    {
      "cell_type": "code",
      "metadata": {
        "id": "pcZRAfEsAZzV",
        "outputId": "25a37dad-1726-4b2b-8585-3fe10da39570"
      },
      "source": [
        "distr_s = st.norm(mu_s,s_std_prof)\n",
        "x2_s=mu_s+s_std_prof\n",
        "x1_s=mu_s-s_std_prof\n",
        "\n",
        "result_s=distr_s.cdf(x2_s)-distr_s.cdf(x1_s)\n",
        "print('Вероятность попасть в диапазон затрат между {:.2f}р и {:.2f}р на тарифе \"Смарт\" равна {:.0%}'.format(x1_s,x2_s,result_s))"
      ],
      "execution_count": null,
      "outputs": [
        {
          "output_type": "stream",
          "text": [
            "Вероятность попасть в диапазон затрат между 558.42р и 651.91р на тарифе \"Смарт\" равна 68%\n"
          ],
          "name": "stdout"
        }
      ]
    },
    {
      "cell_type": "markdown",
      "metadata": {
        "id": "4gloKhuZAZzV"
      },
      "source": [
        "Тариф \"Ultra\""
      ]
    },
    {
      "cell_type": "code",
      "metadata": {
        "scrolled": true,
        "id": "MMIscQWVAZzW",
        "outputId": "3dce41df-876e-4694-84ad-aa3c7a1772d2"
      },
      "source": [
        "u_std_mb=np.std(count_per_mount_u['mb_per_user'], ddof=1)\n",
        "u_std_ms=np.std(count_per_mount_u['message_per_user'], ddof=1)\n",
        "u_std_min=np.std(count_per_mount_u['minutes_per_user'], ddof=1)\n",
        "u_std_prof=np.std(count_per_mount_u['profit_per_user'], ddof=1)\n",
        "\n",
        "print('Стандартное отклонение израсходованного трафика равно',u_std_mb)\n",
        "print('Стандартное отклонение израсходованных сообщений равно',u_std_ms)\n",
        "print('Стандартное отклонение израсходованных минут равно',u_std_min)\n",
        "print('Стандартное отклонение затраченных средств на связь равно',u_std_prof)"
      ],
      "execution_count": null,
      "outputs": [
        {
          "output_type": "stream",
          "text": [
            "Стандартное отклонение израсходованного трафика равно 2957.0864756111587\n",
            "Стандартное отклонение израсходованных сообщений равно 12.146828991364558\n",
            "Стандартное отклонение израсходованных минут равно 79.96755971055143\n",
            "Стандартное отклонение затраченных средств на связь равно 54.5602252727954\n"
          ],
          "name": "stdout"
        }
      ]
    },
    {
      "cell_type": "markdown",
      "metadata": {
        "id": "tUL0bf9gAZzW"
      },
      "source": [
        "Для полноты понимания о распределении значений затрат на связь по тарифу \"Ultra\" вычислим распределение 3-сигм"
      ]
    },
    {
      "cell_type": "code",
      "metadata": {
        "scrolled": true,
        "id": "Irp4GxX8AZzW",
        "outputId": "ec8e4a2c-e14e-40cc-9bda-2c4f99e779a3"
      },
      "source": [
        "mu=count_per_mount_u['profit_per_user'].mean()\n",
        "IIIG_profit = (u_std_prof*3)+mu\n",
        "IIIG_profit"
      ],
      "execution_count": null,
      "outputs": [
        {
          "output_type": "execute_result",
          "data": {
            "text/plain": [
              "1975.1806758183861"
            ]
          },
          "metadata": {
            "tags": []
          },
          "execution_count": 62
        }
      ]
    },
    {
      "cell_type": "markdown",
      "metadata": {
        "id": "YEtnTKTSAZzX"
      },
      "source": [
        "#### Вычислим какова вероятность попасть между значений средних затрат на связь при использовании тарифа \"Ultra\""
      ]
    },
    {
      "cell_type": "code",
      "metadata": {
        "scrolled": true,
        "id": "RvuadHsdAZzX"
      },
      "source": [
        "distr = st.norm(mu,u_std_prof)\n",
        "x2=mu+u_std_prof\n",
        "x1=mu-u_std_prof"
      ],
      "execution_count": null,
      "outputs": []
    },
    {
      "cell_type": "code",
      "metadata": {
        "scrolled": true,
        "id": "JZErNm92AZzX",
        "outputId": "63f68d44-6762-4c79-e4d8-dfae35c16825"
      },
      "source": [
        "result=distr.cdf(x2)-distr.cdf(x1)\n",
        "print('Вероятность попасть в диапазон затрат между {:.2f}р и {:.2f}р на тарифе \"Ultra\" равна {:.0%}'.format(x1,x2,result))"
      ],
      "execution_count": null,
      "outputs": [
        {
          "output_type": "stream",
          "text": [
            "Вероятность попасть в диапазон затрат между 1756.94р и 1866.06р на тарифе \"Ultra\" равна 68%\n"
          ],
          "name": "stdout"
        }
      ]
    },
    {
      "cell_type": "markdown",
      "metadata": {
        "id": "y_YZRzt9AZzX"
      },
      "source": [
        "#### Построим гистограммы и опишем распределения <a id=\"step_3.6\"></a>"
      ]
    },
    {
      "cell_type": "markdown",
      "metadata": {
        "id": "ljjrSkxZAZzY"
      },
      "source": [
        "Пострим сравнительные гистограммы распределиения затрат пользователей на тариф \"Ultrs\" и \"Smart\""
      ]
    },
    {
      "cell_type": "code",
      "metadata": {
        "scrolled": false,
        "id": "K_2T-4OPAZzY",
        "outputId": "7755b390-3475-4e9e-f0cf-f1671349d4d6"
      },
      "source": [
        "bins=[450,500,550,600,650,700,750,800,850,1400,1450,1500,1550,1600,1650,1700,1750,1800,1850,1900]\n",
        "ax=count_per_mount_s['profit_per_user'].plot(kind='hist',bins=bins,alpha=0.9,grid=True, label='Smart', legend=True)\n",
        "count_per_mount_u['profit_per_user'].plot(kind='hist',bins=bins, alpha=0.9, grid=True, title=\"Гистограммы распределения ежемесячных затрат на свзяь\", label='Ultra', legend=True, figsize=(10,5))\n",
        "\n",
        "plt.show()"
      ],
      "execution_count": null,
      "outputs": [
        {
          "output_type": "display_data",
          "data": {
            "image/png": "[encoded data removed]",
            "text/plain": [
              "<Figure size 720x360 with 1 Axes>"
            ]
          },
          "metadata": {
            "tags": [],
            "needs_background": "light"
          }
        }
      ]
    },
    {
      "cell_type": "markdown",
      "metadata": {
        "id": "im5Ffwu9AZzY"
      },
      "source": [
        "<a id=\"step_3.end\"></a>\n",
        "### Вывод"
      ]
    },
    {
      "cell_type": "markdown",
      "metadata": {
        "id": "ECYFEEwPAZzY"
      },
      "source": [
        "При проверке дисперсии и среднего значения по двум тарифам можно сделать вывод, что данные по использованию internet-трафика и звонков отличаются не значительно, за исключением распределения дисперсии и сркднего занчения по затратам на использование связи и расхода смс. Из гистограммы распределения ежемесячных затрат на свзяь мы видим нормальное распределение данных. Проверм гипотезы о разнице затарт на связь в следующей главе."
      ]
    },
    {
      "cell_type": "markdown",
      "metadata": {
        "id": "PheU3UCpAZzZ"
      },
      "source": [
        "----"
      ]
    },
    {
      "cell_type": "markdown",
      "metadata": {
        "id": "Pq191Lf_AZzZ"
      },
      "source": [
        "<a href='#start'>Вернуться к оглавлению</a>\n",
        "<a id=\"step_4.1\"></a>\n",
        "### Глава 4. Проверим гипотезы"
      ]
    },
    {
      "cell_type": "markdown",
      "metadata": {
        "id": "5alVRerdAZzZ"
      },
      "source": [
        "#### Cредняя выручка пользователей тарифов «Ultra» и «Smart» различается"
      ]
    },
    {
      "cell_type": "markdown",
      "metadata": {
        "id": "gxYhZBOQAZza"
      },
      "source": [
        "Если у нас стоит задача выяснить, различаются ли между собой выручки по тарифам, то нулевая гипотеза будет звучать так - выручка пользователей тарифа \"Ultra\" равна выручке пользователй тарифа \"Smart\", а альтернативная гипотеза - нет выручки двух тарифов не равны. Попробуем доказать нулевую гипотезу при помощи критерия, учитывающего равенство средних двух выборок из генеральных совокупностей. Для этого используем t-test"
      ]
    },
    {
      "cell_type": "markdown",
      "metadata": {
        "id": "sc-5sRrIAZza"
      },
      "source": [
        "Произведём выборку по неусреднённым данным ежемесячных затрат пользователей на связь "
      ]
    },
    {
      "cell_type": "code",
      "metadata": {
        "id": "8vc0R8VPAZza"
      },
      "source": [
        "table=final_data.pivot_table(index=['tariff','month'], values='profit', aggfunc='sum').round(0)\n",
        "table=table.reset_index(0)"
      ],
      "execution_count": null,
      "outputs": []
    },
    {
      "cell_type": "code",
      "metadata": {
        "id": "wvcLfTWqAZza"
      },
      "source": [
        "table_smart=table.query('tariff == \"smart\"')\n",
        "table_ultra=table.query('tariff == \"ultra\"')"
      ],
      "execution_count": null,
      "outputs": []
    },
    {
      "cell_type": "markdown",
      "metadata": {
        "id": "Wyur2zuzAZza"
      },
      "source": [
        "Для наглядности визуализируем наши выборки"
      ]
    },
    {
      "cell_type": "code",
      "metadata": {
        "scrolled": false,
        "id": "jr8iIHTMAZzb",
        "outputId": "80250438-89a6-4499-9187-8d96e9c9bcea"
      },
      "source": [
        "table_ultra['profit'].plot(kind='bar',grid=True)\n",
        "plt.show()"
      ],
      "execution_count": null,
      "outputs": [
        {
          "output_type": "display_data",
          "data": {
            "image/png": "[encoded data removed]",
            "text/plain": [
              "<Figure size 432x288 with 1 Axes>"
            ]
          },
          "metadata": {
            "tags": [],
            "needs_background": "light"
          }
        }
      ]
    },
    {
      "cell_type": "code",
      "metadata": {
        "id": "cJukBeY2AZzb",
        "outputId": "57057226-1564-4e24-cf14-d9a2645ac690"
      },
      "source": [
        "table_smart['profit'].plot(kind='bar',grid=True)\n",
        "plt.show()"
      ],
      "execution_count": null,
      "outputs": [
        {
          "output_type": "display_data",
          "data": {
            "image/png": "[encoded data removed]",
            "text/plain": [
              "<Figure size 432x288 with 1 Axes>"
            ]
          },
          "metadata": {
            "tags": [],
            "needs_background": "light"
          }
        }
      ]
    },
    {
      "cell_type": "markdown",
      "metadata": {
        "id": "mR9Q5citAZzc"
      },
      "source": [
        "Проверм дисперсии выборок, чтобы корректно определить параметр equal_var"
      ]
    },
    {
      "cell_type": "code",
      "metadata": {
        "scrolled": true,
        "id": "bdRgd6gWAZzc",
        "outputId": "237c98b3-c3bb-44d9-8a22-5f0290c3f924"
      },
      "source": [
        "dispers_smart= np.var(table_smart['profit'])\n",
        "dispers_ultra= np.var(table_ultra['profit'])\n",
        "print('Дисперсия для выборки затрат на связь по тарифу \"Smart\" равна', dispers_smart )\n",
        "print('Дисперсия для выборки затрат на связь по тарифу \"Ultra\" равна', dispers_ultra )"
      ],
      "execution_count": null,
      "outputs": [
        {
          "output_type": "stream",
          "text": [
            "Дисперсия для выборки затрат на связь по тарифу \"Smart\" равна 4422838991.909722\n",
            "Дисперсия для выборки затрат на связь по тарифу \"Ultra\" равна 5103001344.083333\n"
          ],
          "name": "stdout"
        }
      ]
    },
    {
      "cell_type": "markdown",
      "metadata": {
        "id": "7akewYK5AZzc"
      },
      "source": [
        "Дисперсии отличаются друг от друга не значительно, а так же у нас есть основание полагать, что выборки взяты из схожих по параметрам совокупностей по-этому укажем параметр equal_var = True."
      ]
    },
    {
      "cell_type": "code",
      "metadata": {
        "scrolled": false,
        "id": "cpuYz5APAZzd",
        "outputId": "286d15f6-f6aa-4f8c-c933-cc57dd42e2b2"
      },
      "source": [
        "sample_1 = table_smart['profit']\n",
        "sample_2 = table_ultra['profit']\n",
        "\n",
        "alpha = .05 \n",
        "\n",
        "results = st.ttest_ind(\n",
        "    sample_1, \n",
        "    sample_2, equal_var=True)\n",
        "\n",
        "print('p-значение: ',results.pvalue)\n",
        "\n",
        "if results.pvalue < alpha:\n",
        "    print(\"Отвергаем нулевую гипотезу\")\n",
        "else:\n",
        "    print(\"Не получилось отвергнуть нулевую гипотезу\") "
      ],
      "execution_count": null,
      "outputs": [
        {
          "output_type": "stream",
          "text": [
            "p-значение:  0.37389111898437355\n",
            "Не получилось отвергнуть нулевую гипотезу\n"
          ],
          "name": "stdout"
        }
      ]
    },
    {
      "cell_type": "markdown",
      "metadata": {
        "id": "-g87OUFoAZzd"
      },
      "source": [
        "Таким образом мы пришли к выводу о том, что эмпирически полученные данные укладываются в уровень значимости и можно сичтать, что средние выборки по двум тарифам очень близки другу, но это не говорит о том какая из выборок больше или меньше, для этого свормулируем ещё одну гипотезу."
      ]
    },
    {
      "cell_type": "code",
      "metadata": {
        "id": "VW9pEnp_AZzd"
      },
      "source": [
        "# Напишем функцию для удаления выбросов\n",
        "\n",
        "def delete_outliers(df, column, graphic=0, x = 10, y = 10):\n",
        "    q1 = df[column].quantile(0.25)                 \n",
        "    q3 = df[column].quantile(0.75)\n",
        "    iqr = q3 - q1\n",
        "    iqr_test = (df[column] >= (q1 - 1.5 * iqr)) & (df[column] <= (q3 + 1.5 * iqr))\n",
        "    if graphic == 1:\n",
        "        return df.loc[iqr_test].boxplot([column], figsize=(x,y))\n",
        "    else:\n",
        "        return df.loc[iqr_test]"
      ],
      "execution_count": null,
      "outputs": []
    },
    {
      "cell_type": "code",
      "metadata": {
        "id": "AogjvDilAZze",
        "outputId": "b5f99481-ad23-4bfa-ed41-e99f553d09c7"
      },
      "source": [
        "delete_outliers(table_smart,'profit',1,5,5)"
      ],
      "execution_count": null,
      "outputs": [
        {
          "output_type": "execute_result",
          "data": {
            "text/plain": [
              "<matplotlib.axes._subplots.AxesSubplot at 0x7f85fecc95d0>"
            ]
          },
          "metadata": {
            "tags": []
          },
          "execution_count": 87
        },
        {
          "output_type": "display_data",
          "data": {
            "image/png": "[encoded data removed]",
            "text/plain": [
              "<Figure size 360x360 with 1 Axes>"
            ]
          },
          "metadata": {
            "tags": [],
            "needs_background": "light"
          }
        }
      ]
    },
    {
      "cell_type": "markdown",
      "metadata": {
        "id": "N-7IF09HAZze"
      },
      "source": [
        "Сформулируем ещё одну гипотезу как одностороннюю (возьмём её за нулевую), звучать она будет так - средняя выручка пользователей тарифов «Smart» меньше средней выручки тарифа «Ultra», тогда альтренативная гипотеза будет -  нет средняя выручка пользователей тарифов «Smart» не меньше средней выручки тарифа «Ultra». За среднюю величину(prev_screens_value) сравниваемого значения возьмём среднее по выборке тарифа \"Smart\""
      ]
    },
    {
      "cell_type": "code",
      "metadata": {
        "scrolled": true,
        "id": "FdIZjFY9AZze",
        "outputId": "4787b4c7-a1e0-4a8b-bf0a-388faeac9e0f"
      },
      "source": [
        "screens = table_ultra['profit']\n",
        "prev_screens_value = table_smart['profit'].mean()\n",
        "\n",
        "alpha = .05\n",
        "\n",
        "results_a = st.ttest_1samp(\n",
        "    screens, \n",
        "    prev_screens_value)\n",
        "\n",
        "print('p-значение: ', results_a.pvalue / 2)\n",
        "\n",
        "if results_a.pvalue / 2 < alpha and screens.mean() < prev_screens_value:\n",
        "    print(\"Отвергаем нулевую гипотезу\")\n",
        "else:\n",
        "    print(\"Не получилось отвергнуть нулевую гипотезу\") "
      ],
      "execution_count": null,
      "outputs": [
        {
          "output_type": "stream",
          "text": [
            "p-значение:  0.12036627343079608\n",
            "Не получилось отвергнуть нулевую гипотезу\n"
          ],
          "name": "stdout"
        }
      ]
    },
    {
      "cell_type": "markdown",
      "metadata": {
        "id": "CMu2O8evAZzf"
      },
      "source": [
        "    Вывод. Отлично мы смогли доказать гипотезу о том, что средняя выручка на тарифе «Smart» не отличается от средней выручки тарифа «Ultra и укладывается в уровень значимости 5%. А так же сформулировав гипотезу о направелнности незначительного различия доказали, что средняя выручка на тарифе «Smart» меньше средней выручки тарифа «Ultra"
      ]
    },
    {
      "cell_type": "markdown",
      "metadata": {
        "id": "WipBoop_AZzf"
      },
      "source": [
        "#### Cредняя выручка пользователей из Москвы отличается от выручки пользователей из других регионов <a id=\"step_4.2\"></a>\n"
      ]
    },
    {
      "cell_type": "markdown",
      "metadata": {
        "id": "7PZix6aLAZzf"
      },
      "source": [
        "Выполним разбивку по двум параметрам из общей таблицы пользователи в \"Москве\" и \"в других регионах\""
      ]
    },
    {
      "cell_type": "code",
      "metadata": {
        "id": "ORA4GZMbAZzf"
      },
      "source": [
        "mean_profit_m = final_data.query('city == \"Москва\"').pivot_table(index=['user_id'], values='profit', aggfunc='sum')\n",
        "mean_profit_o = final_data.query('city != \"Москва\"').pivot_table(index=['user_id'], values='profit', aggfunc='sum')"
      ],
      "execution_count": null,
      "outputs": []
    },
    {
      "cell_type": "markdown",
      "metadata": {
        "id": "5dGixfqHAZzg"
      },
      "source": [
        "Среднее значение по затратам для пользователей в Москве"
      ]
    },
    {
      "cell_type": "code",
      "metadata": {
        "scrolled": true,
        "id": "1B8l0XWfAZzg",
        "outputId": "a91e57e7-e5b9-4c86-d882-d1004841f089"
      },
      "source": [
        "mean_profit_m['profit'].mean()"
      ],
      "execution_count": null,
      "outputs": [
        {
          "output_type": "execute_result",
          "data": {
            "text/plain": [
              "6282.495679450758"
            ]
          },
          "metadata": {
            "tags": []
          },
          "execution_count": 75
        }
      ]
    },
    {
      "cell_type": "markdown",
      "metadata": {
        "id": "JQXGg0fcAZzg"
      },
      "source": [
        "Посчитаем дисперсию и стандартное отклонение"
      ]
    },
    {
      "cell_type": "code",
      "metadata": {
        "scrolled": false,
        "id": "3q5eiZAPAZzg",
        "outputId": "88408b65-0e31-4cd8-d2b5-1349bea913cc"
      },
      "source": [
        "disp_m=np.var(mean_profit_m['profit'])\n",
        "std_m=np.std(mean_profit_m['profit'], ddof=1)\n",
        "\n",
        "print('Дисперсия затрат пользователей в Москве равна', disp_m)\n",
        "print('Стандартное отклонение затрат пользователей в Москве равно',std_m)"
      ],
      "execution_count": null,
      "outputs": [
        {
          "output_type": "stream",
          "text": [
            "Дисперсия затрат пользователей в Москве равна 31054557.17571106\n",
            "Стандартное отклонение затрат пользователей в Москве равно 5601.021372231846\n"
          ],
          "name": "stdout"
        }
      ]
    },
    {
      "cell_type": "markdown",
      "metadata": {
        "id": "dsUGgPyPAZzh"
      },
      "source": [
        "Среднее занчение по расходам для пользователей в других регионах"
      ]
    },
    {
      "cell_type": "code",
      "metadata": {
        "scrolled": true,
        "id": "1Pi2o-2GAZzh",
        "outputId": "b1e9b646-65c4-41ca-e08b-6ba7b1de2ce8"
      },
      "source": [
        "mean_profit_o['profit'].mean()"
      ],
      "execution_count": null,
      "outputs": [
        {
          "output_type": "execute_result",
          "data": {
            "text/plain": [
              "6211.470863855985"
            ]
          },
          "metadata": {
            "tags": []
          },
          "execution_count": 77
        }
      ]
    },
    {
      "cell_type": "markdown",
      "metadata": {
        "id": "Tf2FaprvAZzh"
      },
      "source": [
        "Посчитаем дисперсию и стандартное отклонение"
      ]
    },
    {
      "cell_type": "code",
      "metadata": {
        "scrolled": true,
        "id": "M6rMMQI5AZzh",
        "outputId": "19e55f78-b859-4937-fcee-7bb856a79d56"
      },
      "source": [
        "disp_o=np.var(mean_profit_o['profit'])\n",
        "std_o=np.std(mean_profit_m['profit'], ddof=1)\n",
        "\n",
        "print('Дисперсия затрат пользователей в др.регионах равна', disp_o)\n",
        "print('Стандартное отклонение затрат пользователей в др.регионах равно',std_o)"
      ],
      "execution_count": null,
      "outputs": [
        {
          "output_type": "stream",
          "text": [
            "Дисперсия затрат пользователей в др.регионах равна 29617235.557517283\n",
            "Стандартное отклонение затрат пользователей в др.регионах равно 5601.021372231846\n"
          ],
          "name": "stdout"
        }
      ]
    },
    {
      "cell_type": "markdown",
      "metadata": {
        "id": "UztLd5qgAZzi"
      },
      "source": [
        "Перейдём к гипотезе о различночти выручки в зависимости от города проживания.\n",
        "Нулевая гипотеза - никаких различий от города проживания нет\n",
        "Альтернативная гипотеза - средняя выручка в Москве отличается от средней выручки по другим регионам"
      ]
    },
    {
      "cell_type": "code",
      "metadata": {
        "scrolled": true,
        "id": "odD_S7yKAZzi",
        "outputId": "1a4f677e-278b-4c15-b636-d12bb5e04eef"
      },
      "source": [
        "moscow_1 = mean_profit_m['profit']\n",
        "other_2 = mean_profit_o['profit']\n",
        "\n",
        "alpha = .05 \n",
        "\n",
        "result_test = st.ttest_ind(\n",
        "    moscow_1, \n",
        "    other_2, equal_var=False)\n",
        "\n",
        "print('p-значение: ',result_test.pvalue)\n",
        "\n",
        "if result_test.pvalue < alpha:\n",
        "    print(\"Отвергаем нулевую гипотезу\")\n",
        "else:\n",
        "    print(\"Не получилось отвергнуть нулевую гипотезу\") "
      ],
      "execution_count": null,
      "outputs": [
        {
          "output_type": "stream",
          "text": [
            "p-значение:  0.9097129434501013\n",
            "Не получилось отвергнуть нулевую гипотезу\n"
          ],
          "name": "stdout"
        }
      ]
    },
    {
      "cell_type": "markdown",
      "metadata": {
        "id": "Fd74hxhuAZzi"
      },
      "source": [
        "Таким образом полученное значение P - говорит нам о том,  что средняя выручка пользователей из Москвы и пользователей из других регионов неодинакова, но с вероятностью почти в 90% такое или большее различие можно получить случайно. Это слишком большая вероятность, чтобы делать вывод о различии между средними выручками."
      ]
    },
    {
      "cell_type": "markdown",
      "metadata": {
        "id": "T1og-JQ9AZzj"
      },
      "source": [
        "<a id=\"step_4.end\"></a>\n",
        "### Вывод"
      ]
    },
    {
      "cell_type": "markdown",
      "metadata": {
        "id": "pMODAEyIAZzj"
      },
      "source": [
        "Исходя из полученных данных и выполненных проверок гипотез о различии выручек пользователей тарифов «Ultra» и «Smart» и  отличии средней выручки пользователей из Москвы от выручки пользователей из других регионов можно сделать вывод, что однозначно гипотеза о  различности средней выручки между тарифами имеет право на существование, но различия между ними не существенны и мы смогли доказать обратное. А гипотеза о том, что в среднем выручка пользователей из Москвы отличается от выручки пользователей из других регионов не доказана не смотря на небольшое отличие в сторону пользователей из Москвы, т.к. очень велика вероятность получить такое распределение выручки случайно."
      ]
    },
    {
      "cell_type": "markdown",
      "metadata": {
        "id": "x9lwzjWpAZzj"
      },
      "source": [
        "----"
      ]
    },
    {
      "cell_type": "markdown",
      "metadata": {
        "id": "MV7kJssJAZzj"
      },
      "source": [
        "<a href='#start'>Вернуться к оглавлению</a>\n",
        "<a id=\"step_5.end\"></a>\n",
        "### Глава 5. Общий вывод"
      ]
    },
    {
      "cell_type": "markdown",
      "metadata": {
        "id": "KqiOkT4lAZzj"
      },
      "source": [
        "Перед нами стояла задача сделать предварительный анализ тарифов на небольшой выборке клиентов. Мы использовали данные 500 пользователей «Мегалайна»: кто они, откуда, каким тарифом пользуются, сколько звонков и сообщений каждый отправил за 2018 год. А так же проанализировать поведение клиентов и сделать вывод — какой тариф приносит больше денег федеральному оператору сотовой связи - «Мегалайн».</br>\n",
        "\n",
        "Исходя из проанализированных данных из вверенной нам выборки и анализа распределения величины использования ресурсов каждого тарифа (смс, интеренет, звонки), можно однозначно сделать вывод о том, что поведение клиентов различных тарифов очень сходятся, с небольшим перевесом в сторону пользователей тарифа \"Ultra\". При том, что средняя стоимость использования тарифа \"Ultra\" выше на 33%, чем средняя стоимость использования тарифа \"Smart\". По распределению средней выручки в завсимости от региона использования, так же можно сделать вывод, что затраты на связь не зависят от региона использования. </br>\n",
        "\n",
        "В итоговом заключении можно рекомендовать коммерческому департаменту, скорректировать рекламный бюджет в сторону тарифа \"Smart\", т.к. по тарифному плану \"Ultra\" приток выручки намного выше и без рекламных инвестиций при том же объёме использования средств связи, а это говорит, о том что такой тариф выбирают пользователи, которые готовы переплачивать за связь вне зависимости от ежемесячного использования включенных пакетов, такое поведение характерно организациям и бизнесу, а занчит затраты на рекламу могут не принести желаемого результата."
      ]
    }
  ]
}